{
 "cells": [
  {
   "cell_type": "markdown",
   "id": "576e3bfc",
   "metadata": {
    "papermill": {
     "duration": 0.0192,
     "end_time": "2022-12-14T18:51:41.462063",
     "exception": false,
     "start_time": "2022-12-14T18:51:41.442863",
     "status": "completed"
    },
    "tags": []
   },
   "source": [
    "In this notebook I make some finishing touches on my training dataset. The major changes are feature normalization and the addition of the term-document frequency matrix. Candidate models are then constructed, evaluated, and compared using RMSE. The best four candidate models will be used as part of an ensemble method that will stack the results and feed that output into a final model. "
   ]
  },
  {
   "cell_type": "code",
   "execution_count": 1,
   "id": "ab10cdb7",
   "metadata": {
    "_kg_hide-input": true,
    "execution": {
     "iopub.execute_input": "2022-12-14T18:51:41.504611Z",
     "iopub.status.busy": "2022-12-14T18:51:41.503466Z",
     "iopub.status.idle": "2022-12-14T18:52:02.917033Z",
     "shell.execute_reply": "2022-12-14T18:52:02.915483Z"
    },
    "papermill": {
     "duration": 21.439076,
     "end_time": "2022-12-14T18:52:02.920755",
     "exception": false,
     "start_time": "2022-12-14T18:51:41.481679",
     "status": "completed"
    },
    "tags": []
   },
   "outputs": [
    {
     "ename": "ModuleNotFoundError",
     "evalue": "No module named 'lightgbm'",
     "output_type": "error",
     "traceback": [
      "\u001b[1;31m---------------------------------------------------------------------------\u001b[0m",
      "\u001b[1;31mModuleNotFoundError\u001b[0m                       Traceback (most recent call last)",
      "\u001b[1;32m<ipython-input-1-57f06f6c5b13>\u001b[0m in \u001b[0;36m<module>\u001b[1;34m\u001b[0m\n\u001b[0;32m      5\u001b[0m \u001b[1;32mimport\u001b[0m \u001b[0mmatplotlib\u001b[0m\u001b[1;33m.\u001b[0m\u001b[0mpyplot\u001b[0m \u001b[1;32mas\u001b[0m \u001b[0mplt\u001b[0m\u001b[1;33m\u001b[0m\u001b[1;33m\u001b[0m\u001b[0m\n\u001b[0;32m      6\u001b[0m \u001b[1;32mfrom\u001b[0m \u001b[0msklearn\u001b[0m\u001b[1;33m.\u001b[0m\u001b[0mmultioutput\u001b[0m \u001b[1;32mimport\u001b[0m \u001b[0mMultiOutputRegressor\u001b[0m\u001b[1;33m\u001b[0m\u001b[1;33m\u001b[0m\u001b[0m\n\u001b[1;32m----> 7\u001b[1;33m \u001b[1;32mfrom\u001b[0m \u001b[0mlightgbm\u001b[0m \u001b[1;32mimport\u001b[0m \u001b[0mLGBMRegressor\u001b[0m\u001b[1;33m\u001b[0m\u001b[1;33m\u001b[0m\u001b[0m\n\u001b[0m\u001b[0;32m      8\u001b[0m \u001b[1;32mfrom\u001b[0m \u001b[0mcatboost\u001b[0m \u001b[1;32mimport\u001b[0m \u001b[0mCatBoostRegressor\u001b[0m\u001b[1;33m\u001b[0m\u001b[1;33m\u001b[0m\u001b[0m\n\u001b[0;32m      9\u001b[0m \u001b[1;32mimport\u001b[0m \u001b[0mxgboost\u001b[0m \u001b[1;32mas\u001b[0m \u001b[0mxgb\u001b[0m\u001b[1;33m\u001b[0m\u001b[1;33m\u001b[0m\u001b[0m\n",
      "\u001b[1;31mModuleNotFoundError\u001b[0m: No module named 'lightgbm'"
     ]
    }
   ],
   "source": [
    "import pandas as pd\n",
    "import numpy as np\n",
    "import re\n",
    "import seaborn as sns\n",
    "import matplotlib.pyplot as plt\n",
    "from sklearn.multioutput import MultiOutputRegressor\n",
    "from lightgbm import LGBMRegressor\n",
    "from catboost import CatBoostRegressor\n",
    "import xgboost as xgb\n",
    "from textblob import TextBlob\n",
    "import spacy\n",
    "import nltk\n",
    "from nltk.tokenize import RegexpTokenizer\n",
    "from nltk.tokenize import word_tokenize\n",
    "from nltk.corpus import stopwords\n",
    "from collections import Counter\n",
    "from sklearn.linear_model import Ridge\n",
    "from sklearn.linear_model import LinearRegression\n",
    "from sklearn.preprocessing import Normalizer\n",
    "from tqdm import tqdm\n",
    "from nltk.sentiment.vader import SentimentIntensityAnalyzer\n",
    "from string import punctuation\n",
    "from sklearn.metrics import mean_squared_error, mean_absolute_error\n",
    "from sklearn import preprocessing\n",
    "trans = preprocessing.MinMaxScaler()\n",
    "from collections import Counter\n",
    "from scipy.sparse import hstack\n",
    "import nltk\n",
    "from tqdm import tqdm\n",
    "from nltk.sentiment.vader import SentimentIntensityAnalyzer\n",
    "from scipy.sparse import hstack\n",
    "\n",
    "nlp = spacy.load(\"en_core_web_lg\")"
   ]
  },
  {
   "cell_type": "markdown",
   "id": "0e4c3638",
   "metadata": {
    "papermill": {
     "duration": 0.020122,
     "end_time": "2022-12-14T18:52:02.961804",
     "exception": false,
     "start_time": "2022-12-14T18:52:02.941682",
     "status": "completed"
    },
    "tags": []
   },
   "source": [
    "## Import dataset from first notebook:"
   ]
  },
  {
   "cell_type": "code",
   "execution_count": 2,
   "id": "3ea97453",
   "metadata": {
    "execution": {
     "iopub.execute_input": "2022-12-14T18:52:03.005014Z",
     "iopub.status.busy": "2022-12-14T18:52:03.004125Z",
     "iopub.status.idle": "2022-12-14T18:52:03.307319Z",
     "shell.execute_reply": "2022-12-14T18:52:03.304958Z"
    },
    "papermill": {
     "duration": 0.329163,
     "end_time": "2022-12-14T18:52:03.311393",
     "exception": false,
     "start_time": "2022-12-14T18:52:02.982230",
     "status": "completed"
    },
    "tags": []
   },
   "outputs": [],
   "source": [
    "train=pd.read_csv('../input/feedback-prize-feature-engineering/train_vars.csv', lineterminator='\\n')"
   ]
  },
  {
   "cell_type": "code",
   "execution_count": 3,
   "id": "b99d7fa0",
   "metadata": {
    "execution": {
     "iopub.execute_input": "2022-12-14T18:52:03.362573Z",
     "iopub.status.busy": "2022-12-14T18:52:03.362104Z",
     "iopub.status.idle": "2022-12-14T18:52:03.370331Z",
     "shell.execute_reply": "2022-12-14T18:52:03.368849Z"
    },
    "papermill": {
     "duration": 0.033984,
     "end_time": "2022-12-14T18:52:03.373087",
     "exception": false,
     "start_time": "2022-12-14T18:52:03.339103",
     "status": "completed"
    },
    "tags": []
   },
   "outputs": [
    {
     "data": {
      "text/plain": [
       "(3911, 46)"
      ]
     },
     "execution_count": 3,
     "metadata": {},
     "output_type": "execute_result"
    }
   ],
   "source": [
    "train.shape"
   ]
  },
  {
   "cell_type": "code",
   "execution_count": 4,
   "id": "1d588d4d",
   "metadata": {
    "execution": {
     "iopub.execute_input": "2022-12-14T18:52:03.415242Z",
     "iopub.status.busy": "2022-12-14T18:52:03.414772Z",
     "iopub.status.idle": "2022-12-14T18:52:03.453447Z",
     "shell.execute_reply": "2022-12-14T18:52:03.452219Z"
    },
    "papermill": {
     "duration": 0.062817,
     "end_time": "2022-12-14T18:52:03.456201",
     "exception": false,
     "start_time": "2022-12-14T18:52:03.393384",
     "status": "completed"
    },
    "tags": []
   },
   "outputs": [
    {
     "data": {
      "text/html": [
       "<div>\n",
       "<style scoped>\n",
       "    .dataframe tbody tr th:only-of-type {\n",
       "        vertical-align: middle;\n",
       "    }\n",
       "\n",
       "    .dataframe tbody tr th {\n",
       "        vertical-align: top;\n",
       "    }\n",
       "\n",
       "    .dataframe thead th {\n",
       "        text-align: right;\n",
       "    }\n",
       "</style>\n",
       "<table border=\"1\" class=\"dataframe\">\n",
       "  <thead>\n",
       "    <tr style=\"text-align: right;\">\n",
       "      <th></th>\n",
       "      <th>text_id</th>\n",
       "      <th>full_text</th>\n",
       "      <th>cohesion</th>\n",
       "      <th>syntax</th>\n",
       "      <th>vocabulary</th>\n",
       "      <th>phraseology</th>\n",
       "      <th>grammar</th>\n",
       "      <th>conventions</th>\n",
       "      <th>n_capital</th>\n",
       "      <th>n_punct</th>\n",
       "      <th>...</th>\n",
       "      <th>max_sent_len</th>\n",
       "      <th>min_sent_len</th>\n",
       "      <th>med_sent_len</th>\n",
       "      <th>std_sent_len</th>\n",
       "      <th>num_sent</th>\n",
       "      <th>compound</th>\n",
       "      <th>negative</th>\n",
       "      <th>positive</th>\n",
       "      <th>neutral</th>\n",
       "      <th>char_len</th>\n",
       "    </tr>\n",
       "  </thead>\n",
       "  <tbody>\n",
       "    <tr>\n",
       "      <th>0</th>\n",
       "      <td>0016926B079C</td>\n",
       "      <td>i think that students would benefit from learn...</td>\n",
       "      <td>3.5</td>\n",
       "      <td>3.5</td>\n",
       "      <td>3.0</td>\n",
       "      <td>3.0</td>\n",
       "      <td>4.0</td>\n",
       "      <td>3.0</td>\n",
       "      <td>1</td>\n",
       "      <td>25</td>\n",
       "      <td>...</td>\n",
       "      <td>26</td>\n",
       "      <td>0</td>\n",
       "      <td>11.0</td>\n",
       "      <td>6.783963</td>\n",
       "      <td>19</td>\n",
       "      <td>0.9363</td>\n",
       "      <td>0.051</td>\n",
       "      <td>0.099</td>\n",
       "      <td>0.850</td>\n",
       "      <td>261</td>\n",
       "    </tr>\n",
       "    <tr>\n",
       "      <th>1</th>\n",
       "      <td>0022683E9EA5</td>\n",
       "      <td>when a problem is a change you have to let it ...</td>\n",
       "      <td>2.5</td>\n",
       "      <td>2.5</td>\n",
       "      <td>3.0</td>\n",
       "      <td>2.0</td>\n",
       "      <td>2.0</td>\n",
       "      <td>2.5</td>\n",
       "      <td>2</td>\n",
       "      <td>27</td>\n",
       "      <td>...</td>\n",
       "      <td>58</td>\n",
       "      <td>0</td>\n",
       "      <td>19.0</td>\n",
       "      <td>17.166634</td>\n",
       "      <td>15</td>\n",
       "      <td>-0.9194</td>\n",
       "      <td>0.111</td>\n",
       "      <td>0.091</td>\n",
       "      <td>0.798</td>\n",
       "      <td>533</td>\n",
       "    </tr>\n",
       "    <tr>\n",
       "      <th>2</th>\n",
       "      <td>00299B378633</td>\n",
       "      <td>dear, principal  if u change the school policy...</td>\n",
       "      <td>3.0</td>\n",
       "      <td>3.5</td>\n",
       "      <td>3.0</td>\n",
       "      <td>3.0</td>\n",
       "      <td>3.0</td>\n",
       "      <td>2.5</td>\n",
       "      <td>9</td>\n",
       "      <td>56</td>\n",
       "      <td>...</td>\n",
       "      <td>26</td>\n",
       "      <td>0</td>\n",
       "      <td>16.0</td>\n",
       "      <td>5.869199</td>\n",
       "      <td>20</td>\n",
       "      <td>0.9271</td>\n",
       "      <td>0.054</td>\n",
       "      <td>0.110</td>\n",
       "      <td>0.837</td>\n",
       "      <td>320</td>\n",
       "    </tr>\n",
       "    <tr>\n",
       "      <th>3</th>\n",
       "      <td>003885A45F42</td>\n",
       "      <td>the best time in life is when you become yours...</td>\n",
       "      <td>4.5</td>\n",
       "      <td>4.5</td>\n",
       "      <td>4.5</td>\n",
       "      <td>4.5</td>\n",
       "      <td>4.0</td>\n",
       "      <td>5.0</td>\n",
       "      <td>9</td>\n",
       "      <td>166</td>\n",
       "      <td>...</td>\n",
       "      <td>35</td>\n",
       "      <td>0</td>\n",
       "      <td>16.0</td>\n",
       "      <td>7.161703</td>\n",
       "      <td>37</td>\n",
       "      <td>0.9995</td>\n",
       "      <td>0.052</td>\n",
       "      <td>0.245</td>\n",
       "      <td>0.704</td>\n",
       "      <td>728</td>\n",
       "    </tr>\n",
       "    <tr>\n",
       "      <th>4</th>\n",
       "      <td>0049B1DF5CCC</td>\n",
       "      <td>small act of kindness can impact in other peop...</td>\n",
       "      <td>2.5</td>\n",
       "      <td>3.0</td>\n",
       "      <td>3.0</td>\n",
       "      <td>3.0</td>\n",
       "      <td>2.5</td>\n",
       "      <td>2.5</td>\n",
       "      <td>0</td>\n",
       "      <td>3</td>\n",
       "      <td>...</td>\n",
       "      <td>85</td>\n",
       "      <td>0</td>\n",
       "      <td>26.5</td>\n",
       "      <td>31.148836</td>\n",
       "      <td>4</td>\n",
       "      <td>0.9868</td>\n",
       "      <td>0.000</td>\n",
       "      <td>0.164</td>\n",
       "      <td>0.836</td>\n",
       "      <td>234</td>\n",
       "    </tr>\n",
       "  </tbody>\n",
       "</table>\n",
       "<p>5 rows × 46 columns</p>\n",
       "</div>"
      ],
      "text/plain": [
       "        text_id                                          full_text  cohesion  \\\n",
       "0  0016926B079C  i think that students would benefit from learn...       3.5   \n",
       "1  0022683E9EA5  when a problem is a change you have to let it ...       2.5   \n",
       "2  00299B378633  dear, principal  if u change the school policy...       3.0   \n",
       "3  003885A45F42  the best time in life is when you become yours...       4.5   \n",
       "4  0049B1DF5CCC  small act of kindness can impact in other peop...       2.5   \n",
       "\n",
       "   syntax  vocabulary  phraseology  grammar  conventions  n_capital  n_punct  \\\n",
       "0     3.5         3.0          3.0      4.0          3.0          1       25   \n",
       "1     2.5         3.0          2.0      2.0          2.5          2       27   \n",
       "2     3.5         3.0          3.0      3.0          2.5          9       56   \n",
       "3     4.5         4.5          4.5      4.0          5.0          9      166   \n",
       "4     3.0         3.0          3.0      2.5          2.5          0        3   \n",
       "\n",
       "   ...  max_sent_len  min_sent_len  med_sent_len  std_sent_len  num_sent  \\\n",
       "0  ...            26             0          11.0      6.783963        19   \n",
       "1  ...            58             0          19.0     17.166634        15   \n",
       "2  ...            26             0          16.0      5.869199        20   \n",
       "3  ...            35             0          16.0      7.161703        37   \n",
       "4  ...            85             0          26.5     31.148836         4   \n",
       "\n",
       "   compound  negative  positive  neutral  char_len  \n",
       "0    0.9363     0.051     0.099    0.850       261  \n",
       "1   -0.9194     0.111     0.091    0.798       533  \n",
       "2    0.9271     0.054     0.110    0.837       320  \n",
       "3    0.9995     0.052     0.245    0.704       728  \n",
       "4    0.9868     0.000     0.164    0.836       234  \n",
       "\n",
       "[5 rows x 46 columns]"
      ]
     },
     "execution_count": 4,
     "metadata": {},
     "output_type": "execute_result"
    }
   ],
   "source": [
    "train.head()"
   ]
  },
  {
   "cell_type": "markdown",
   "id": "2eb6cdc4",
   "metadata": {
    "papermill": {
     "duration": 0.020595,
     "end_time": "2022-12-14T18:52:03.497236",
     "exception": false,
     "start_time": "2022-12-14T18:52:03.476641",
     "status": "completed"
    },
    "tags": []
   },
   "source": [
    "# Normalization"
   ]
  },
  {
   "cell_type": "code",
   "execution_count": 5,
   "id": "22867f2c",
   "metadata": {
    "execution": {
     "iopub.execute_input": "2022-12-14T18:52:03.540636Z",
     "iopub.status.busy": "2022-12-14T18:52:03.539875Z",
     "iopub.status.idle": "2022-12-14T18:52:03.546033Z",
     "shell.execute_reply": "2022-12-14T18:52:03.545076Z"
    },
    "papermill": {
     "duration": 0.031075,
     "end_time": "2022-12-14T18:52:03.548671",
     "exception": false,
     "start_time": "2022-12-14T18:52:03.517596",
     "status": "completed"
    },
    "tags": []
   },
   "outputs": [],
   "source": [
    "variables = [var for var in train.columns if var not in ['full_text', 'text_id', 'cohesion','syntax','vocabulary','phraseology','grammar','conventions']]"
   ]
  },
  {
   "cell_type": "code",
   "execution_count": 6,
   "id": "018e465d",
   "metadata": {
    "execution": {
     "iopub.execute_input": "2022-12-14T18:52:03.591760Z",
     "iopub.status.busy": "2022-12-14T18:52:03.591045Z",
     "iopub.status.idle": "2022-12-14T18:52:03.598529Z",
     "shell.execute_reply": "2022-12-14T18:52:03.597196Z"
    },
    "papermill": {
     "duration": 0.032108,
     "end_time": "2022-12-14T18:52:03.601241",
     "exception": false,
     "start_time": "2022-12-14T18:52:03.569133",
     "status": "completed"
    },
    "tags": []
   },
   "outputs": [
    {
     "data": {
      "text/plain": [
       "['n_capital',\n",
       " 'n_punct',\n",
       " 'n_unique',\n",
       " 'n_unique_n_stop',\n",
       " 'n_n_word',\n",
       " 'noun_phrase_count',\n",
       " 'PRON',\n",
       " 'VERB',\n",
       " 'SCONJ',\n",
       " 'NOUN',\n",
       " 'AUX',\n",
       " 'ADP',\n",
       " 'PUNCT',\n",
       " 'PART',\n",
       " 'CCONJ',\n",
       " 'ADV',\n",
       " 'DET',\n",
       " 'ADJ',\n",
       " 'SPACE',\n",
       " 'PROPN',\n",
       " 'NUM',\n",
       " 'INTJ',\n",
       " 'SYM',\n",
       " 'X',\n",
       " 'polarity',\n",
       " 'subjectivity',\n",
       " 'spell_score',\n",
       " 'av_sent_len',\n",
       " 'max_sent_len',\n",
       " 'min_sent_len',\n",
       " 'med_sent_len',\n",
       " 'std_sent_len',\n",
       " 'num_sent',\n",
       " 'compound',\n",
       " 'negative',\n",
       " 'positive',\n",
       " 'neutral',\n",
       " 'char_len']"
      ]
     },
     "execution_count": 6,
     "metadata": {},
     "output_type": "execute_result"
    }
   ],
   "source": [
    "variables"
   ]
  },
  {
   "cell_type": "code",
   "execution_count": 7,
   "id": "e54dc3d8",
   "metadata": {
    "execution": {
     "iopub.execute_input": "2022-12-14T18:52:03.645845Z",
     "iopub.status.busy": "2022-12-14T18:52:03.645353Z",
     "iopub.status.idle": "2022-12-14T18:52:03.659911Z",
     "shell.execute_reply": "2022-12-14T18:52:03.658886Z"
    },
    "papermill": {
     "duration": 0.039815,
     "end_time": "2022-12-14T18:52:03.662450",
     "exception": false,
     "start_time": "2022-12-14T18:52:03.622635",
     "status": "completed"
    },
    "tags": []
   },
   "outputs": [],
   "source": [
    "X_train_custom=trans.fit_transform(train[variables].values)"
   ]
  },
  {
   "cell_type": "code",
   "execution_count": 8,
   "id": "a9c9b686",
   "metadata": {
    "execution": {
     "iopub.execute_input": "2022-12-14T18:52:03.709483Z",
     "iopub.status.busy": "2022-12-14T18:52:03.708655Z",
     "iopub.status.idle": "2022-12-14T18:52:03.715050Z",
     "shell.execute_reply": "2022-12-14T18:52:03.713798Z"
    },
    "papermill": {
     "duration": 0.033069,
     "end_time": "2022-12-14T18:52:03.717538",
     "exception": false,
     "start_time": "2022-12-14T18:52:03.684469",
     "status": "completed"
    },
    "tags": []
   },
   "outputs": [
    {
     "data": {
      "text/plain": [
       "(3911, 38)"
      ]
     },
     "execution_count": 8,
     "metadata": {},
     "output_type": "execute_result"
    }
   ],
   "source": [
    "X_train_custom.shape"
   ]
  },
  {
   "cell_type": "code",
   "execution_count": 9,
   "id": "993b57fd",
   "metadata": {
    "execution": {
     "iopub.execute_input": "2022-12-14T18:52:03.763561Z",
     "iopub.status.busy": "2022-12-14T18:52:03.762213Z",
     "iopub.status.idle": "2022-12-14T18:52:03.769002Z",
     "shell.execute_reply": "2022-12-14T18:52:03.767973Z"
    },
    "papermill": {
     "duration": 0.032472,
     "end_time": "2022-12-14T18:52:03.771604",
     "exception": false,
     "start_time": "2022-12-14T18:52:03.739132",
     "status": "completed"
    },
    "tags": []
   },
   "outputs": [],
   "source": [
    "y=train[['cohesion','syntax','vocabulary','phraseology','grammar','conventions']]"
   ]
  },
  {
   "cell_type": "markdown",
   "id": "32a1ad17",
   "metadata": {
    "papermill": {
     "duration": 0.020986,
     "end_time": "2022-12-14T18:52:03.814099",
     "exception": false,
     "start_time": "2022-12-14T18:52:03.793113",
     "status": "completed"
    },
    "tags": []
   },
   "source": [
    "<div align='center'>\n",
    "  <img src=\"https://hackernoon.com/images/BYWRsHWtmGOUC5N4fwNhMqohMAC3-yn436bf.jpeg\" alt=\"Trulli\" style=\"width=40%\">\n",
    "</div>\n"
   ]
  },
  {
   "cell_type": "code",
   "execution_count": 10,
   "id": "c2a080dc",
   "metadata": {
    "execution": {
     "iopub.execute_input": "2022-12-14T18:52:03.859848Z",
     "iopub.status.busy": "2022-12-14T18:52:03.859072Z",
     "iopub.status.idle": "2022-12-14T18:52:05.033583Z",
     "shell.execute_reply": "2022-12-14T18:52:05.032041Z"
    },
    "papermill": {
     "duration": 1.200789,
     "end_time": "2022-12-14T18:52:05.036743",
     "exception": false,
     "start_time": "2022-12-14T18:52:03.835954",
     "status": "completed"
    },
    "tags": []
   },
   "outputs": [],
   "source": [
    "from sklearn.feature_extraction.text import TfidfVectorizer\n",
    "\n",
    "vectorizer = TfidfVectorizer()\n",
    "X_train = vectorizer.fit_transform(train['full_text'])\n",
    "#X_test = vectorizer.transform(test['full_text'])"
   ]
  },
  {
   "cell_type": "code",
   "execution_count": 11,
   "id": "27d300e8",
   "metadata": {
    "execution": {
     "iopub.execute_input": "2022-12-14T18:52:05.081408Z",
     "iopub.status.busy": "2022-12-14T18:52:05.080931Z",
     "iopub.status.idle": "2022-12-14T18:52:05.088662Z",
     "shell.execute_reply": "2022-12-14T18:52:05.087446Z"
    },
    "papermill": {
     "duration": 0.032368,
     "end_time": "2022-12-14T18:52:05.090939",
     "exception": false,
     "start_time": "2022-12-14T18:52:05.058571",
     "status": "completed"
    },
    "tags": []
   },
   "outputs": [
    {
     "data": {
      "text/plain": [
       "(3911, 21363)"
      ]
     },
     "execution_count": 11,
     "metadata": {},
     "output_type": "execute_result"
    }
   ],
   "source": [
    "X_train.shape"
   ]
  },
  {
   "cell_type": "code",
   "execution_count": 12,
   "id": "c02fbd2f",
   "metadata": {
    "execution": {
     "iopub.execute_input": "2022-12-14T18:52:05.135399Z",
     "iopub.status.busy": "2022-12-14T18:52:05.134516Z",
     "iopub.status.idle": "2022-12-14T18:52:06.644583Z",
     "shell.execute_reply": "2022-12-14T18:52:06.643283Z"
    },
    "papermill": {
     "duration": 1.535043,
     "end_time": "2022-12-14T18:52:06.647378",
     "exception": false,
     "start_time": "2022-12-14T18:52:05.112335",
     "status": "completed"
    },
    "tags": []
   },
   "outputs": [
    {
     "data": {
      "text/plain": [
       "matrix([[0., 0., 0., ..., 0., 0., 0.],\n",
       "        [0., 0., 0., ..., 0., 0., 0.],\n",
       "        [0., 0., 0., ..., 0., 0., 0.],\n",
       "        [0., 0., 0., ..., 0., 0., 0.]])"
      ]
     },
     "execution_count": 12,
     "metadata": {},
     "output_type": "execute_result"
    }
   ],
   "source": [
    "#LOOK AT MATRIX\n",
    "X_train.todense()[:4]"
   ]
  },
  {
   "cell_type": "code",
   "execution_count": 13,
   "id": "6d28f78e",
   "metadata": {
    "execution": {
     "iopub.execute_input": "2022-12-14T18:52:06.693657Z",
     "iopub.status.busy": "2022-12-14T18:52:06.692714Z",
     "iopub.status.idle": "2022-12-14T18:52:06.723359Z",
     "shell.execute_reply": "2022-12-14T18:52:06.722029Z"
    },
    "papermill": {
     "duration": 0.056475,
     "end_time": "2022-12-14T18:52:06.726221",
     "exception": false,
     "start_time": "2022-12-14T18:52:06.669746",
     "status": "completed"
    },
    "tags": []
   },
   "outputs": [
    {
     "name": "stdout",
     "output_type": "stream",
     "text": [
      "CPU times: user 19.1 ms, sys: 3.01 ms, total: 22.1 ms\n",
      "Wall time: 22.1 ms\n"
     ]
    }
   ],
   "source": [
    "%%time\n",
    "\n",
    "train_s=hstack((X_train,\n",
    "                X_train_custom))\n",
    "#test_s=hstack((X_test,\n",
    "#               X_test_custom))"
   ]
  },
  {
   "cell_type": "code",
   "execution_count": 14,
   "id": "af3d8e0f",
   "metadata": {
    "execution": {
     "iopub.execute_input": "2022-12-14T18:52:06.771413Z",
     "iopub.status.busy": "2022-12-14T18:52:06.770638Z",
     "iopub.status.idle": "2022-12-14T18:52:06.777268Z",
     "shell.execute_reply": "2022-12-14T18:52:06.775964Z"
    },
    "papermill": {
     "duration": 0.03211,
     "end_time": "2022-12-14T18:52:06.779704",
     "exception": false,
     "start_time": "2022-12-14T18:52:06.747594",
     "status": "completed"
    },
    "tags": []
   },
   "outputs": [
    {
     "name": "stdout",
     "output_type": "stream",
     "text": [
      "(3911, 21401) (3911, 6)\n"
     ]
    }
   ],
   "source": [
    "print(train_s.shape,y.shape)\n",
    "#print(test_s.shape)"
   ]
  },
  {
   "cell_type": "code",
   "execution_count": 15,
   "id": "d6898903",
   "metadata": {
    "execution": {
     "iopub.execute_input": "2022-12-14T18:52:06.826251Z",
     "iopub.status.busy": "2022-12-14T18:52:06.825083Z",
     "iopub.status.idle": "2022-12-14T20:32:48.861664Z",
     "shell.execute_reply": "2022-12-14T20:32:48.859765Z"
    },
    "papermill": {
     "duration": 6042.067439,
     "end_time": "2022-12-14T20:32:48.869777",
     "exception": false,
     "start_time": "2022-12-14T18:52:06.802338",
     "status": "completed"
    },
    "tags": []
   },
   "outputs": [],
   "source": [
    "#output for future use\n",
    "pd.DataFrame.sparse.from_spmatrix(train_s).to_csv(\"train_full.csv\")"
   ]
  },
  {
   "cell_type": "code",
   "execution_count": 16,
   "id": "07161c36",
   "metadata": {
    "execution": {
     "iopub.execute_input": "2022-12-14T20:32:48.923243Z",
     "iopub.status.busy": "2022-12-14T20:32:48.922779Z",
     "iopub.status.idle": "2022-12-14T20:32:48.928627Z",
     "shell.execute_reply": "2022-12-14T20:32:48.927195Z"
    },
    "papermill": {
     "duration": 0.032694,
     "end_time": "2022-12-14T20:32:48.931308",
     "exception": false,
     "start_time": "2022-12-14T20:32:48.898614",
     "status": "completed"
    },
    "tags": []
   },
   "outputs": [],
   "source": [
    "y_vars = ['cohesion','syntax','vocabulary','phraseology','grammar','conventions']"
   ]
  },
  {
   "cell_type": "code",
   "execution_count": 17,
   "id": "e5d82954",
   "metadata": {
    "execution": {
     "iopub.execute_input": "2022-12-14T20:32:48.975462Z",
     "iopub.status.busy": "2022-12-14T20:32:48.974968Z",
     "iopub.status.idle": "2022-12-14T20:32:48.982382Z",
     "shell.execute_reply": "2022-12-14T20:32:48.981353Z"
    },
    "papermill": {
     "duration": 0.032457,
     "end_time": "2022-12-14T20:32:48.984762",
     "exception": false,
     "start_time": "2022-12-14T20:32:48.952305",
     "status": "completed"
    },
    "tags": []
   },
   "outputs": [],
   "source": [
    "y_train = train[y_vars]"
   ]
  },
  {
   "cell_type": "markdown",
   "id": "e00424b9",
   "metadata": {
    "papermill": {
     "duration": 0.020579,
     "end_time": "2022-12-14T20:32:49.026519",
     "exception": false,
     "start_time": "2022-12-14T20:32:49.005940",
     "status": "completed"
    },
    "tags": []
   },
   "source": [
    "# Regression Candidate Model Exploration"
   ]
  },
  {
   "attachments": {
    "aaf26cb7-8cd5-410e-aee7-3cb94c3036b1.jpeg": {
     "image/jpeg": "[encoded data removed]"
    }
   },
   "cell_type": "markdown",
   "id": "af959d1d",
   "metadata": {
    "papermill": {
     "duration": 0.021148,
     "end_time": "2022-12-14T20:32:49.068589",
     "exception": false,
     "start_time": "2022-12-14T20:32:49.047441",
     "status": "completed"
    },
    "tags": []
   },
   "source": [
    "![Web capture_12-12-2022_162548_stats.stackexchange.com.jpeg](attachment:aaf26cb7-8cd5-410e-aee7-3cb94c3036b1.jpeg)"
   ]
  },
  {
   "cell_type": "markdown",
   "id": "8f3ca45e",
   "metadata": {
    "papermill": {
     "duration": 0.020583,
     "end_time": "2022-12-14T20:32:49.110148",
     "exception": false,
     "start_time": "2022-12-14T20:32:49.089565",
     "status": "completed"
    },
    "tags": []
   },
   "source": [
    "The metric used to evaluate model submissions is MCRMSE or the Mean Columnwise Root Mean Squared Error. To benchmark each model I am using the standard RMSE. I found that the RMSE didn't fluctuate too much among using independent columns. "
   ]
  },
  {
   "cell_type": "code",
   "execution_count": 18,
   "id": "183bf24d",
   "metadata": {
    "execution": {
     "iopub.execute_input": "2022-12-14T20:32:49.154583Z",
     "iopub.status.busy": "2022-12-14T20:32:49.153209Z",
     "iopub.status.idle": "2022-12-14T20:32:49.161169Z",
     "shell.execute_reply": "2022-12-14T20:32:49.160186Z"
    },
    "papermill": {
     "duration": 0.032553,
     "end_time": "2022-12-14T20:32:49.163721",
     "exception": false,
     "start_time": "2022-12-14T20:32:49.131168",
     "status": "completed"
    },
    "tags": []
   },
   "outputs": [],
   "source": [
    "from sklearn.metrics import mean_squared_error, mean_absolute_error\n",
    "\n",
    "def RMSE(y, y_hat):\n",
    "    return np.sqrt(mean_squared_error(y,y_hat))\n",
    "\n",
    "def MCRMSE(y_df, y_hat_df):\n",
    "    size = y_df.shape[1]\n",
    "    mcrmse = 0\n",
    "    for i in range(size):\n",
    "        mcrmse+=RMSE(y_df.iloc[:, i], y_hat_df[:, i])\n",
    "    return mcrmse/size"
   ]
  },
  {
   "cell_type": "markdown",
   "id": "35a4d468",
   "metadata": {
    "papermill": {
     "duration": 0.020311,
     "end_time": "2022-12-14T20:32:49.205054",
     "exception": false,
     "start_time": "2022-12-14T20:32:49.184743",
     "status": "completed"
    },
    "tags": []
   },
   "source": [
    "# Multi-Output Regressor"
   ]
  },
  {
   "cell_type": "markdown",
   "id": "ae770360",
   "metadata": {
    "papermill": {
     "duration": 0.021743,
     "end_time": "2022-12-14T20:32:49.248544",
     "exception": false,
     "start_time": "2022-12-14T20:32:49.226801",
     "status": "completed"
    },
    "tags": []
   },
   "source": [
    "Sklearn has its own build in multi-output regressor class. This will take the regression model and allow it to predict multiple outputs it does this by creating a different model for each output and puts them into one. The MCRMSE function will be used on models that incorporate this setup."
   ]
  },
  {
   "cell_type": "markdown",
   "id": "2d9ad8eb",
   "metadata": {
    "papermill": {
     "duration": 0.020284,
     "end_time": "2022-12-14T20:32:49.289557",
     "exception": false,
     "start_time": "2022-12-14T20:32:49.269273",
     "status": "completed"
    },
    "tags": []
   },
   "source": [
    "# LGBM"
   ]
  },
  {
   "cell_type": "markdown",
   "id": "9f6f853c",
   "metadata": {
    "papermill": {
     "duration": 0.020457,
     "end_time": "2022-12-14T20:32:49.330591",
     "exception": false,
     "start_time": "2022-12-14T20:32:49.310134",
     "status": "completed"
    },
    "tags": []
   },
   "source": [
    "## LGBM Single Column"
   ]
  },
  {
   "cell_type": "code",
   "execution_count": 19,
   "id": "d8a1429a",
   "metadata": {
    "execution": {
     "iopub.execute_input": "2022-12-14T20:32:49.375185Z",
     "iopub.status.busy": "2022-12-14T20:32:49.374342Z",
     "iopub.status.idle": "2022-12-14T20:32:49.379291Z",
     "shell.execute_reply": "2022-12-14T20:32:49.378251Z"
    },
    "papermill": {
     "duration": 0.030173,
     "end_time": "2022-12-14T20:32:49.381441",
     "exception": false,
     "start_time": "2022-12-14T20:32:49.351268",
     "status": "completed"
    },
    "tags": []
   },
   "outputs": [],
   "source": [
    "params_lgb = {\n",
    "    \"n_estimators\": 1000,\n",
    "    \"verbose\": -1\n",
    "}"
   ]
  },
  {
   "cell_type": "code",
   "execution_count": 20,
   "id": "23d09af6",
   "metadata": {
    "execution": {
     "iopub.execute_input": "2022-12-14T20:32:49.426257Z",
     "iopub.status.busy": "2022-12-14T20:32:49.425377Z",
     "iopub.status.idle": "2022-12-14T20:32:49.430768Z",
     "shell.execute_reply": "2022-12-14T20:32:49.429727Z"
    },
    "papermill": {
     "duration": 0.031073,
     "end_time": "2022-12-14T20:32:49.433334",
     "exception": false,
     "start_time": "2022-12-14T20:32:49.402261",
     "status": "completed"
    },
    "tags": []
   },
   "outputs": [],
   "source": [
    "y_train = train['vocabulary']"
   ]
  },
  {
   "cell_type": "code",
   "execution_count": 21,
   "id": "4c44398f",
   "metadata": {
    "execution": {
     "iopub.execute_input": "2022-12-14T20:32:49.476982Z",
     "iopub.status.busy": "2022-12-14T20:32:49.476502Z",
     "iopub.status.idle": "2022-12-14T20:33:25.902388Z",
     "shell.execute_reply": "2022-12-14T20:33:25.900822Z"
    },
    "papermill": {
     "duration": 36.472774,
     "end_time": "2022-12-14T20:33:25.926895",
     "exception": false,
     "start_time": "2022-12-14T20:32:49.454121",
     "status": "completed"
    },
    "tags": []
   },
   "outputs": [
    {
     "data": {
      "text/plain": [
       "LGBMRegressor(n_estimators=1000, verbose=-1)"
      ]
     },
     "execution_count": 21,
     "metadata": {},
     "output_type": "execute_result"
    }
   ],
   "source": [
    "model = LGBMRegressor(**params_lgb)\n",
    "model.fit(train_s, y_train)"
   ]
  },
  {
   "cell_type": "code",
   "execution_count": 22,
   "id": "91751c0b",
   "metadata": {
    "execution": {
     "iopub.execute_input": "2022-12-14T20:33:25.971084Z",
     "iopub.status.busy": "2022-12-14T20:33:25.970627Z",
     "iopub.status.idle": "2022-12-14T20:33:26.208151Z",
     "shell.execute_reply": "2022-12-14T20:33:26.205929Z"
    },
    "papermill": {
     "duration": 0.264071,
     "end_time": "2022-12-14T20:33:26.212072",
     "exception": false,
     "start_time": "2022-12-14T20:33:25.948001",
     "status": "completed"
    },
    "tags": []
   },
   "outputs": [
    {
     "name": "stderr",
     "output_type": "stream",
     "text": [
      "/opt/conda/lib/python3.7/site-packages/lightgbm/basic.py:859: UserWarning: Converting data to scipy sparse matrix.\n",
      "  _log_warning('Converting data to scipy sparse matrix.')\n"
     ]
    },
    {
     "name": "stdout",
     "output_type": "stream",
     "text": [
      "0.0013113347165120282\n",
      "0.00090661305747475\n"
     ]
    }
   ],
   "source": [
    "y_pred = model.predict(train_s)\n",
    "print(RMSE(y_train,y_pred))\n",
    "print(mean_absolute_error(y_train, y_pred))"
   ]
  },
  {
   "cell_type": "markdown",
   "id": "11816dfe",
   "metadata": {
    "papermill": {
     "duration": 0.027774,
     "end_time": "2022-12-14T20:33:26.269813",
     "exception": false,
     "start_time": "2022-12-14T20:33:26.242039",
     "status": "completed"
    },
    "tags": []
   },
   "source": [
    "## LGBM Multi Output Regressor"
   ]
  },
  {
   "cell_type": "code",
   "execution_count": 23,
   "id": "998105f4",
   "metadata": {
    "execution": {
     "iopub.execute_input": "2022-12-14T20:33:26.325724Z",
     "iopub.status.busy": "2022-12-14T20:33:26.324070Z",
     "iopub.status.idle": "2022-12-14T20:33:26.331788Z",
     "shell.execute_reply": "2022-12-14T20:33:26.330783Z"
    },
    "papermill": {
     "duration": 0.036758,
     "end_time": "2022-12-14T20:33:26.334579",
     "exception": false,
     "start_time": "2022-12-14T20:33:26.297821",
     "status": "completed"
    },
    "tags": []
   },
   "outputs": [],
   "source": [
    "y_train_df=train[y_vars]"
   ]
  },
  {
   "cell_type": "code",
   "execution_count": 24,
   "id": "42e3c000",
   "metadata": {
    "execution": {
     "iopub.execute_input": "2022-12-14T20:33:26.387345Z",
     "iopub.status.busy": "2022-12-14T20:33:26.386138Z",
     "iopub.status.idle": "2022-12-14T20:37:01.575533Z",
     "shell.execute_reply": "2022-12-14T20:37:01.574254Z"
    },
    "papermill": {
     "duration": 215.238209,
     "end_time": "2022-12-14T20:37:01.599003",
     "exception": false,
     "start_time": "2022-12-14T20:33:26.360794",
     "status": "completed"
    },
    "tags": []
   },
   "outputs": [
    {
     "data": {
      "text/plain": [
       "MultiOutputRegressor(estimator=LGBMRegressor(n_estimators=1000, verbose=-1))"
      ]
     },
     "execution_count": 24,
     "metadata": {},
     "output_type": "execute_result"
    }
   ],
   "source": [
    "model = MultiOutputRegressor(LGBMRegressor(**params_lgb))\n",
    "model.fit(train_s, y_train_df)"
   ]
  },
  {
   "cell_type": "code",
   "execution_count": 25,
   "id": "b9b87320",
   "metadata": {
    "execution": {
     "iopub.execute_input": "2022-12-14T20:37:01.643568Z",
     "iopub.status.busy": "2022-12-14T20:37:01.642492Z",
     "iopub.status.idle": "2022-12-14T20:37:03.025433Z",
     "shell.execute_reply": "2022-12-14T20:37:03.024354Z"
    },
    "papermill": {
     "duration": 1.408735,
     "end_time": "2022-12-14T20:37:03.028679",
     "exception": false,
     "start_time": "2022-12-14T20:37:01.619944",
     "status": "completed"
    },
    "tags": []
   },
   "outputs": [
    {
     "name": "stderr",
     "output_type": "stream",
     "text": [
      "/opt/conda/lib/python3.7/site-packages/lightgbm/basic.py:859: UserWarning: Converting data to scipy sparse matrix.\n",
      "  _log_warning('Converting data to scipy sparse matrix.')\n"
     ]
    },
    {
     "name": "stdout",
     "output_type": "stream",
     "text": [
      "0.001550653180172161\n",
      "0.0010515904421966203\n"
     ]
    }
   ],
   "source": [
    "y_pred = model.predict(train_s)\n",
    "print(MCRMSE(y_train_df,y_pred))\n",
    "print(mean_absolute_error(y_train_df, y_pred))"
   ]
  },
  {
   "cell_type": "markdown",
   "id": "f2b3f358",
   "metadata": {
    "papermill": {
     "duration": 0.021711,
     "end_time": "2022-12-14T20:37:03.073011",
     "exception": false,
     "start_time": "2022-12-14T20:37:03.051300",
     "status": "completed"
    },
    "tags": []
   },
   "source": [
    "## LGBM Cross Validated"
   ]
  },
  {
   "cell_type": "code",
   "execution_count": 26,
   "id": "e15b6477",
   "metadata": {
    "execution": {
     "iopub.execute_input": "2022-12-14T20:37:03.117223Z",
     "iopub.status.busy": "2022-12-14T20:37:03.116745Z",
     "iopub.status.idle": "2022-12-14T20:37:03.124005Z",
     "shell.execute_reply": "2022-12-14T20:37:03.122675Z"
    },
    "papermill": {
     "duration": 0.032284,
     "end_time": "2022-12-14T20:37:03.126481",
     "exception": false,
     "start_time": "2022-12-14T20:37:03.094197",
     "status": "completed"
    },
    "tags": []
   },
   "outputs": [],
   "source": [
    "params_lgb = {'subsample_freq': 0, 'reg_lambda': 61, 'reg_alpha': 21, 'num_leaves': 85, 'num_iterations': 110, 'n_estimators': 4900, 'min_data_in_leaf': 11, 'max_depth': 30, 'max_bin': 100, 'learning_rate': 0.1, 'importance_type': 'gain', 'feature_fraction': 0.2, 'boosting_type': 'gbdt', 'bagging_fraction': 0.3}"
   ]
  },
  {
   "cell_type": "code",
   "execution_count": 27,
   "id": "b5879852",
   "metadata": {
    "execution": {
     "iopub.execute_input": "2022-12-14T20:37:03.170888Z",
     "iopub.status.busy": "2022-12-14T20:37:03.170070Z",
     "iopub.status.idle": "2022-12-14T20:37:12.885446Z",
     "shell.execute_reply": "2022-12-14T20:37:12.884336Z"
    },
    "papermill": {
     "duration": 9.740589,
     "end_time": "2022-12-14T20:37:12.888149",
     "exception": false,
     "start_time": "2022-12-14T20:37:03.147560",
     "status": "completed"
    },
    "tags": []
   },
   "outputs": [
    {
     "name": "stderr",
     "output_type": "stream",
     "text": [
      "/opt/conda/lib/python3.7/site-packages/lightgbm/engine.py:177: UserWarning: Found `num_iterations` in params. Will use it instead of argument\n",
      "  _log_warning(f\"Found `{alias}` in params. Will use it instead of argument\")\n"
     ]
    },
    {
     "name": "stdout",
     "output_type": "stream",
     "text": [
      "[LightGBM] [Warning] feature_fraction is set=0.2, colsample_bytree=1.0 will be ignored. Current value: feature_fraction=0.2\n",
      "[LightGBM] [Warning] min_data_in_leaf is set=11, min_child_samples=20 will be ignored. Current value: min_data_in_leaf=11\n",
      "[LightGBM] [Warning] bagging_fraction is set=0.3, subsample=1.0 will be ignored. Current value: bagging_fraction=0.3\n"
     ]
    },
    {
     "data": {
      "text/plain": [
       "MultiOutputRegressor(estimator=LGBMRegressor(bagging_fraction=0.3,\n",
       "                                             feature_fraction=0.2,\n",
       "                                             importance_type='gain',\n",
       "                                             max_bin=100, max_depth=30,\n",
       "                                             min_data_in_leaf=11,\n",
       "                                             n_estimators=4900,\n",
       "                                             num_iterations=110, num_leaves=85,\n",
       "                                             reg_alpha=21, reg_lambda=61))"
      ]
     },
     "execution_count": 27,
     "metadata": {},
     "output_type": "execute_result"
    }
   ],
   "source": [
    "model = MultiOutputRegressor(LGBMRegressor(**params_lgb))\n",
    "model.fit(train_s, y_train_df)"
   ]
  },
  {
   "cell_type": "code",
   "execution_count": 28,
   "id": "fc69a184",
   "metadata": {
    "execution": {
     "iopub.execute_input": "2022-12-14T20:37:12.933527Z",
     "iopub.status.busy": "2022-12-14T20:37:12.933070Z",
     "iopub.status.idle": "2022-12-14T20:37:13.334527Z",
     "shell.execute_reply": "2022-12-14T20:37:13.333490Z"
    },
    "papermill": {
     "duration": 0.427455,
     "end_time": "2022-12-14T20:37:13.337525",
     "exception": false,
     "start_time": "2022-12-14T20:37:12.910070",
     "status": "completed"
    },
    "tags": []
   },
   "outputs": [
    {
     "name": "stderr",
     "output_type": "stream",
     "text": [
      "/opt/conda/lib/python3.7/site-packages/lightgbm/basic.py:859: UserWarning: Converting data to scipy sparse matrix.\n",
      "  _log_warning('Converting data to scipy sparse matrix.')\n"
     ]
    },
    {
     "name": "stdout",
     "output_type": "stream",
     "text": [
      "0.40167523018950946\n",
      "0.32000021408219975\n"
     ]
    }
   ],
   "source": [
    "y_pred = model.predict(train_s)\n",
    "print(MCRMSE(y_train_df,y_pred))\n",
    "print(mean_absolute_error(y_train_df, y_pred))"
   ]
  },
  {
   "cell_type": "markdown",
   "id": "273b6a2e",
   "metadata": {
    "papermill": {
     "duration": 0.022074,
     "end_time": "2022-12-14T20:37:13.382257",
     "exception": false,
     "start_time": "2022-12-14T20:37:13.360183",
     "status": "completed"
    },
    "tags": []
   },
   "source": [
    "# Linear Regression"
   ]
  },
  {
   "cell_type": "code",
   "execution_count": 29,
   "id": "1b152bc6",
   "metadata": {
    "execution": {
     "iopub.execute_input": "2022-12-14T20:37:13.427225Z",
     "iopub.status.busy": "2022-12-14T20:37:13.426779Z",
     "iopub.status.idle": "2022-12-14T20:37:13.432122Z",
     "shell.execute_reply": "2022-12-14T20:37:13.430863Z"
    },
    "papermill": {
     "duration": 0.03114,
     "end_time": "2022-12-14T20:37:13.434915",
     "exception": false,
     "start_time": "2022-12-14T20:37:13.403775",
     "status": "completed"
    },
    "tags": []
   },
   "outputs": [],
   "source": [
    "from sklearn.linear_model import LinearRegression"
   ]
  },
  {
   "cell_type": "code",
   "execution_count": 30,
   "id": "dea0efbb",
   "metadata": {
    "execution": {
     "iopub.execute_input": "2022-12-14T20:37:13.479760Z",
     "iopub.status.busy": "2022-12-14T20:37:13.479278Z",
     "iopub.status.idle": "2022-12-14T20:37:13.485311Z",
     "shell.execute_reply": "2022-12-14T20:37:13.483815Z"
    },
    "papermill": {
     "duration": 0.031678,
     "end_time": "2022-12-14T20:37:13.487966",
     "exception": false,
     "start_time": "2022-12-14T20:37:13.456288",
     "status": "completed"
    },
    "tags": []
   },
   "outputs": [],
   "source": [
    "params_reg = {\n",
    "    \"n_estimators\": 1000,\n",
    "    \"verbose\": -1\n",
    "}"
   ]
  },
  {
   "cell_type": "code",
   "execution_count": 31,
   "id": "db379657",
   "metadata": {
    "execution": {
     "iopub.execute_input": "2022-12-14T20:37:13.533860Z",
     "iopub.status.busy": "2022-12-14T20:37:13.533342Z",
     "iopub.status.idle": "2022-12-14T20:37:33.971637Z",
     "shell.execute_reply": "2022-12-14T20:37:33.969936Z"
    },
    "papermill": {
     "duration": 20.466869,
     "end_time": "2022-12-14T20:37:33.976739",
     "exception": false,
     "start_time": "2022-12-14T20:37:13.509870",
     "status": "completed"
    },
    "tags": []
   },
   "outputs": [
    {
     "data": {
      "text/plain": [
       "MultiOutputRegressor(estimator=LinearRegression())"
      ]
     },
     "execution_count": 31,
     "metadata": {},
     "output_type": "execute_result"
    }
   ],
   "source": [
    "model = MultiOutputRegressor(LinearRegression())\n",
    "model.fit(train_s, y_train_df)"
   ]
  },
  {
   "cell_type": "code",
   "execution_count": 32,
   "id": "f916430c",
   "metadata": {
    "execution": {
     "iopub.execute_input": "2022-12-14T20:37:34.088164Z",
     "iopub.status.busy": "2022-12-14T20:37:34.087712Z",
     "iopub.status.idle": "2022-12-14T20:37:34.121652Z",
     "shell.execute_reply": "2022-12-14T20:37:34.120217Z"
    },
    "papermill": {
     "duration": 0.089753,
     "end_time": "2022-12-14T20:37:34.124036",
     "exception": false,
     "start_time": "2022-12-14T20:37:34.034283",
     "status": "completed"
    },
    "tags": []
   },
   "outputs": [
    {
     "name": "stdout",
     "output_type": "stream",
     "text": [
      "4.055414469003619e-06\n",
      "2.6953576585189076e-06\n"
     ]
    }
   ],
   "source": [
    "y_pred = model.predict(train_s)\n",
    "print(MCRMSE(y_train_df,y_pred))\n",
    "print(mean_absolute_error(y_train_df, y_pred))"
   ]
  },
  {
   "cell_type": "markdown",
   "id": "ad1bc485",
   "metadata": {
    "papermill": {
     "duration": 0.02222,
     "end_time": "2022-12-14T20:37:34.168269",
     "exception": false,
     "start_time": "2022-12-14T20:37:34.146049",
     "status": "completed"
    },
    "tags": []
   },
   "source": [
    "# Ridge"
   ]
  },
  {
   "cell_type": "code",
   "execution_count": 33,
   "id": "06e0e422",
   "metadata": {
    "execution": {
     "iopub.execute_input": "2022-12-14T20:37:34.214671Z",
     "iopub.status.busy": "2022-12-14T20:37:34.213902Z",
     "iopub.status.idle": "2022-12-14T20:37:36.489896Z",
     "shell.execute_reply": "2022-12-14T20:37:36.488722Z"
    },
    "papermill": {
     "duration": 2.303485,
     "end_time": "2022-12-14T20:37:36.493792",
     "exception": false,
     "start_time": "2022-12-14T20:37:34.190307",
     "status": "completed"
    },
    "tags": []
   },
   "outputs": [
    {
     "data": {
      "text/plain": [
       "MultiOutputRegressor(estimator=Ridge(copy_X=False))"
      ]
     },
     "execution_count": 33,
     "metadata": {},
     "output_type": "execute_result"
    }
   ],
   "source": [
    "model = MultiOutputRegressor(Ridge(copy_X=False))\n",
    "model.fit(train_s, y_train_df)"
   ]
  },
  {
   "cell_type": "code",
   "execution_count": 34,
   "id": "d3b13e1f",
   "metadata": {
    "execution": {
     "iopub.execute_input": "2022-12-14T20:37:36.607975Z",
     "iopub.status.busy": "2022-12-14T20:37:36.607513Z",
     "iopub.status.idle": "2022-12-14T20:37:36.639088Z",
     "shell.execute_reply": "2022-12-14T20:37:36.638128Z"
    },
    "papermill": {
     "duration": 0.091567,
     "end_time": "2022-12-14T20:37:36.641999",
     "exception": false,
     "start_time": "2022-12-14T20:37:36.550432",
     "status": "completed"
    },
    "tags": []
   },
   "outputs": [
    {
     "name": "stdout",
     "output_type": "stream",
     "text": [
      "0.39266381186283605\n",
      "0.314849102541732\n"
     ]
    }
   ],
   "source": [
    "y_pred = model.predict(train_s)\n",
    "print(MCRMSE(y_train_df,y_pred))\n",
    "print(mean_absolute_error(y_train_df, y_pred))"
   ]
  },
  {
   "cell_type": "markdown",
   "id": "49d64a38",
   "metadata": {
    "papermill": {
     "duration": 0.021673,
     "end_time": "2022-12-14T20:37:36.687944",
     "exception": false,
     "start_time": "2022-12-14T20:37:36.666271",
     "status": "completed"
    },
    "tags": []
   },
   "source": [
    "# XGBoost"
   ]
  },
  {
   "cell_type": "code",
   "execution_count": 35,
   "id": "daf188bd",
   "metadata": {
    "execution": {
     "iopub.execute_input": "2022-12-14T20:37:36.733869Z",
     "iopub.status.busy": "2022-12-14T20:37:36.733406Z",
     "iopub.status.idle": "2022-12-14T20:37:36.738314Z",
     "shell.execute_reply": "2022-12-14T20:37:36.737172Z"
    },
    "papermill": {
     "duration": 0.030574,
     "end_time": "2022-12-14T20:37:36.740369",
     "exception": false,
     "start_time": "2022-12-14T20:37:36.709795",
     "status": "completed"
    },
    "tags": []
   },
   "outputs": [],
   "source": [
    "import xgboost as xgb"
   ]
  },
  {
   "cell_type": "code",
   "execution_count": 36,
   "id": "a289a604",
   "metadata": {
    "execution": {
     "iopub.execute_input": "2022-12-14T20:37:36.786155Z",
     "iopub.status.busy": "2022-12-14T20:37:36.785705Z",
     "iopub.status.idle": "2022-12-14T20:37:36.791507Z",
     "shell.execute_reply": "2022-12-14T20:37:36.790286Z"
    },
    "papermill": {
     "duration": 0.031214,
     "end_time": "2022-12-14T20:37:36.793785",
     "exception": false,
     "start_time": "2022-12-14T20:37:36.762571",
     "status": "completed"
    },
    "tags": []
   },
   "outputs": [],
   "source": [
    "params_xgb = {'n_estimators': 1000, 'random_state':0}"
   ]
  },
  {
   "cell_type": "code",
   "execution_count": 37,
   "id": "b2728788",
   "metadata": {
    "execution": {
     "iopub.execute_input": "2022-12-14T20:37:36.839293Z",
     "iopub.status.busy": "2022-12-14T20:37:36.838844Z",
     "iopub.status.idle": "2022-12-14T20:37:36.844621Z",
     "shell.execute_reply": "2022-12-14T20:37:36.843546Z"
    },
    "papermill": {
     "duration": 0.031069,
     "end_time": "2022-12-14T20:37:36.846778",
     "exception": false,
     "start_time": "2022-12-14T20:37:36.815709",
     "status": "completed"
    },
    "tags": []
   },
   "outputs": [],
   "source": [
    "model = xgb.XGBRegressor(\n",
    "        **params_xgb,\n",
    "        objective='reg:squarederror')\n",
    "#model.fit(train_s, y_train)"
   ]
  },
  {
   "cell_type": "code",
   "execution_count": 38,
   "id": "00a3acd8",
   "metadata": {
    "execution": {
     "iopub.execute_input": "2022-12-14T20:37:36.893372Z",
     "iopub.status.busy": "2022-12-14T20:37:36.892228Z",
     "iopub.status.idle": "2022-12-14T20:40:01.229388Z",
     "shell.execute_reply": "2022-12-14T20:40:01.228115Z"
    },
    "papermill": {
     "duration": 144.386406,
     "end_time": "2022-12-14T20:40:01.255332",
     "exception": false,
     "start_time": "2022-12-14T20:37:36.868926",
     "status": "completed"
    },
    "tags": []
   },
   "outputs": [
    {
     "data": {
      "text/plain": [
       "XGBRegressor(base_score=0.5, booster='gbtree', callbacks=None,\n",
       "             colsample_bylevel=1, colsample_bynode=1, colsample_bytree=1,\n",
       "             early_stopping_rounds=None, enable_categorical=False,\n",
       "             eval_metric=None, gamma=0, gpu_id=-1, grow_policy='depthwise',\n",
       "             importance_type=None, interaction_constraints='',\n",
       "             learning_rate=0.300000012, max_bin=256, max_cat_to_onehot=4,\n",
       "             max_delta_step=0, max_depth=6, max_leaves=0, min_child_weight=1,\n",
       "             missing=nan, monotone_constraints='()', n_estimators=1000,\n",
       "             n_jobs=0, num_parallel_tree=1, predictor='auto', random_state=0,\n",
       "             reg_alpha=0, reg_lambda=1, ...)"
      ]
     },
     "execution_count": 38,
     "metadata": {},
     "output_type": "execute_result"
    }
   ],
   "source": [
    "model.fit(train_s, y_train)"
   ]
  },
  {
   "cell_type": "code",
   "execution_count": 39,
   "id": "9ee4bf60",
   "metadata": {
    "execution": {
     "iopub.execute_input": "2022-12-14T20:40:01.302779Z",
     "iopub.status.busy": "2022-12-14T20:40:01.301905Z",
     "iopub.status.idle": "2022-12-14T20:40:01.491254Z",
     "shell.execute_reply": "2022-12-14T20:40:01.490199Z"
    },
    "papermill": {
     "duration": 0.21658,
     "end_time": "2022-12-14T20:40:01.494338",
     "exception": false,
     "start_time": "2022-12-14T20:40:01.277758",
     "status": "completed"
    },
    "tags": []
   },
   "outputs": [
    {
     "name": "stdout",
     "output_type": "stream",
     "text": [
      "0.0013486277759465876\n",
      "0.0010359932839245603\n"
     ]
    }
   ],
   "source": [
    "y_pred = model.predict(train_s)\n",
    "print(RMSE(y_train,y_pred))\n",
    "print(mean_absolute_error(y_train, y_pred))"
   ]
  },
  {
   "cell_type": "markdown",
   "id": "e1decb13",
   "metadata": {
    "papermill": {
     "duration": 0.022225,
     "end_time": "2022-12-14T20:40:01.540605",
     "exception": false,
     "start_time": "2022-12-14T20:40:01.518380",
     "status": "completed"
    },
    "tags": []
   },
   "source": [
    "## Cross Validated"
   ]
  },
  {
   "cell_type": "code",
   "execution_count": 40,
   "id": "8da64939",
   "metadata": {
    "execution": {
     "iopub.execute_input": "2022-12-14T20:40:01.588982Z",
     "iopub.status.busy": "2022-12-14T20:40:01.587741Z",
     "iopub.status.idle": "2022-12-14T20:40:01.594632Z",
     "shell.execute_reply": "2022-12-14T20:40:01.593561Z"
    },
    "papermill": {
     "duration": 0.034056,
     "end_time": "2022-12-14T20:40:01.597154",
     "exception": false,
     "start_time": "2022-12-14T20:40:01.563098",
     "status": "completed"
    },
    "tags": []
   },
   "outputs": [],
   "source": [
    "params_xgb_cv =  {'subsample': 0.8, 'reg_alpha': 0, 'n_estimators': 740, 'min_child_weight': 12, 'max_depth': 6, 'lambda': 5, 'gamma': 0.3, 'eval_metric': 'rmse', 'eta': 0.03, 'colsample_bytree': 0.85, 'booster': 'gbtree'}"
   ]
  },
  {
   "cell_type": "code",
   "execution_count": 41,
   "id": "67cc4170",
   "metadata": {
    "execution": {
     "iopub.execute_input": "2022-12-14T20:40:01.644617Z",
     "iopub.status.busy": "2022-12-14T20:40:01.643771Z",
     "iopub.status.idle": "2022-12-14T20:40:01.649073Z",
     "shell.execute_reply": "2022-12-14T20:40:01.648092Z"
    },
    "papermill": {
     "duration": 0.031789,
     "end_time": "2022-12-14T20:40:01.651507",
     "exception": false,
     "start_time": "2022-12-14T20:40:01.619718",
     "status": "completed"
    },
    "tags": []
   },
   "outputs": [],
   "source": [
    "model = xgb.XGBRegressor(\n",
    "        **params_xgb_cv,\n",
    "        objective='reg:squarederror')"
   ]
  },
  {
   "cell_type": "code",
   "execution_count": 42,
   "id": "4c0caff6",
   "metadata": {
    "execution": {
     "iopub.execute_input": "2022-12-14T20:40:01.698944Z",
     "iopub.status.busy": "2022-12-14T20:40:01.698468Z",
     "iopub.status.idle": "2022-12-14T20:41:14.300416Z",
     "shell.execute_reply": "2022-12-14T20:41:14.299223Z"
    },
    "papermill": {
     "duration": 72.651019,
     "end_time": "2022-12-14T20:41:14.325002",
     "exception": false,
     "start_time": "2022-12-14T20:40:01.673983",
     "status": "completed"
    },
    "tags": []
   },
   "outputs": [
    {
     "data": {
      "text/plain": [
       "XGBRegressor(base_score=0.5, booster='gbtree', callbacks=None,\n",
       "             colsample_bylevel=1, colsample_bynode=1, colsample_bytree=0.85,\n",
       "             early_stopping_rounds=None, enable_categorical=False, eta=0.03,\n",
       "             eval_metric='rmse', gamma=0.3, gpu_id=-1, grow_policy='depthwise',\n",
       "             importance_type=None, interaction_constraints='', lambda=5,\n",
       "             learning_rate=0.0299999993, max_bin=256, max_cat_to_onehot=4,\n",
       "             max_delta_step=0, max_depth=6, max_leaves=0, min_child_weight=12,\n",
       "             missing=nan, monotone_constraints='()', n_estimators=740, n_jobs=0,\n",
       "             num_parallel_tree=1, predictor='auto', random_state=0, ...)"
      ]
     },
     "execution_count": 42,
     "metadata": {},
     "output_type": "execute_result"
    }
   ],
   "source": [
    "model.fit(train_s, y_train)"
   ]
  },
  {
   "cell_type": "code",
   "execution_count": 43,
   "id": "5c840a15",
   "metadata": {
    "execution": {
     "iopub.execute_input": "2022-12-14T20:41:14.372190Z",
     "iopub.status.busy": "2022-12-14T20:41:14.371093Z",
     "iopub.status.idle": "2022-12-14T20:41:14.531847Z",
     "shell.execute_reply": "2022-12-14T20:41:14.530391Z"
    },
    "papermill": {
     "duration": 0.188708,
     "end_time": "2022-12-14T20:41:14.535963",
     "exception": false,
     "start_time": "2022-12-14T20:41:14.347255",
     "status": "completed"
    },
    "tags": []
   },
   "outputs": [
    {
     "name": "stdout",
     "output_type": "stream",
     "text": [
      "0.17927697432078554\n",
      "0.13907734249230086\n"
     ]
    }
   ],
   "source": [
    "y_pred = model.predict(train_s)\n",
    "print(RMSE(y_train,y_pred))\n",
    "print(mean_absolute_error(y_train, y_pred))"
   ]
  },
  {
   "cell_type": "markdown",
   "id": "ebc8bd14",
   "metadata": {
    "papermill": {
     "duration": 0.022134,
     "end_time": "2022-12-14T20:41:14.582704",
     "exception": false,
     "start_time": "2022-12-14T20:41:14.560570",
     "status": "completed"
    },
    "tags": []
   },
   "source": [
    "# CatBoost"
   ]
  },
  {
   "cell_type": "code",
   "execution_count": 44,
   "id": "acbdc412",
   "metadata": {
    "execution": {
     "iopub.execute_input": "2022-12-14T20:41:14.629594Z",
     "iopub.status.busy": "2022-12-14T20:41:14.629154Z",
     "iopub.status.idle": "2022-12-14T20:41:14.635866Z",
     "shell.execute_reply": "2022-12-14T20:41:14.634591Z"
    },
    "papermill": {
     "duration": 0.033055,
     "end_time": "2022-12-14T20:41:14.638220",
     "exception": false,
     "start_time": "2022-12-14T20:41:14.605165",
     "status": "completed"
    },
    "tags": []
   },
   "outputs": [],
   "source": [
    "params = {'learning_rate': 0.3, \n",
    "          'depth': 12, \n",
    "          'l2_leaf_reg': 4, \n",
    "          'loss_function': 'MultiRMSE', \n",
    "          'eval_metric': 'MultiRMSE', \n",
    "          'task_type': 'CPU', \n",
    "          'iterations': 20,\n",
    "          'od_type': 'Iter', \n",
    "          'boosting_type': 'Plain', \n",
    "          'bootstrap_type': 'Bayesian', \n",
    "          'allow_const_label': True, \n",
    "          'random_state': 1\n",
    "         }"
   ]
  },
  {
   "cell_type": "code",
   "execution_count": 45,
   "id": "99cf359c",
   "metadata": {
    "execution": {
     "iopub.execute_input": "2022-12-14T20:41:14.686188Z",
     "iopub.status.busy": "2022-12-14T20:41:14.685321Z",
     "iopub.status.idle": "2022-12-14T20:43:45.441479Z",
     "shell.execute_reply": "2022-12-14T20:43:45.439917Z"
    },
    "papermill": {
     "duration": 150.783469,
     "end_time": "2022-12-14T20:43:45.444055",
     "exception": false,
     "start_time": "2022-12-14T20:41:14.660586",
     "status": "completed"
    },
    "tags": []
   },
   "outputs": [
    {
     "name": "stdout",
     "output_type": "stream",
     "text": [
      "0:\tlearn: 0.5514520\ttotal: 7.5s\tremaining: 2m 22s\n",
      "1:\tlearn: 0.5251876\ttotal: 15.2s\tremaining: 2m 16s\n",
      "2:\tlearn: 0.5006302\ttotal: 22.6s\tremaining: 2m 8s\n",
      "3:\tlearn: 0.4811221\ttotal: 30s\tremaining: 2m\n",
      "4:\tlearn: 0.4668575\ttotal: 37.4s\tremaining: 1m 52s\n",
      "5:\tlearn: 0.4495065\ttotal: 44.8s\tremaining: 1m 44s\n",
      "6:\tlearn: 0.4367669\ttotal: 52.6s\tremaining: 1m 37s\n",
      "7:\tlearn: 0.4231536\ttotal: 59.9s\tremaining: 1m 29s\n",
      "8:\tlearn: 0.4164759\ttotal: 1m 7s\tremaining: 1m 22s\n",
      "9:\tlearn: 0.4116339\ttotal: 1m 14s\tremaining: 1m 14s\n",
      "10:\tlearn: 0.4023594\ttotal: 1m 22s\tremaining: 1m 7s\n",
      "11:\tlearn: 0.3910063\ttotal: 1m 29s\tremaining: 60s\n",
      "12:\tlearn: 0.3843042\ttotal: 1m 37s\tremaining: 52.5s\n",
      "13:\tlearn: 0.3802712\ttotal: 1m 44s\tremaining: 45s\n",
      "14:\tlearn: 0.3748554\ttotal: 1m 52s\tremaining: 37.5s\n",
      "15:\tlearn: 0.3692010\ttotal: 2m\tremaining: 30s\n",
      "16:\tlearn: 0.3629163\ttotal: 2m 7s\tremaining: 22.5s\n",
      "17:\tlearn: 0.3607710\ttotal: 2m 14s\tremaining: 15s\n",
      "18:\tlearn: 0.3576162\ttotal: 2m 22s\tremaining: 7.5s\n",
      "19:\tlearn: 0.3554174\ttotal: 2m 29s\tremaining: 0us\n"
     ]
    },
    {
     "data": {
      "text/plain": [
       "<catboost.core.CatBoostRegressor at 0x7f47a8cfe290>"
      ]
     },
     "execution_count": 45,
     "metadata": {},
     "output_type": "execute_result"
    }
   ],
   "source": [
    "model = CatBoostRegressor(**params)\n",
    "model.fit(train_s, y_train)"
   ]
  },
  {
   "cell_type": "code",
   "execution_count": 46,
   "id": "cceec7ca",
   "metadata": {
    "execution": {
     "iopub.execute_input": "2022-12-14T20:43:45.494742Z",
     "iopub.status.busy": "2022-12-14T20:43:45.493529Z",
     "iopub.status.idle": "2022-12-14T20:43:45.691096Z",
     "shell.execute_reply": "2022-12-14T20:43:45.688988Z"
    },
    "papermill": {
     "duration": 0.225605,
     "end_time": "2022-12-14T20:43:45.693898",
     "exception": false,
     "start_time": "2022-12-14T20:43:45.468293",
     "status": "completed"
    },
    "tags": []
   },
   "outputs": [
    {
     "name": "stdout",
     "output_type": "stream",
     "text": [
      "0.3554174166019017\n",
      "0.2788267882823489\n"
     ]
    }
   ],
   "source": [
    "y_pred = model.predict(train_s)\n",
    "print(RMSE(y_train,y_pred))\n",
    "print(mean_absolute_error(y_train, y_pred))"
   ]
  },
  {
   "cell_type": "markdown",
   "id": "0bccebb8",
   "metadata": {
    "papermill": {
     "duration": 0.023573,
     "end_time": "2022-12-14T20:43:45.742413",
     "exception": false,
     "start_time": "2022-12-14T20:43:45.718840",
     "status": "completed"
    },
    "tags": []
   },
   "source": [
    "## CV Params"
   ]
  },
  {
   "cell_type": "code",
   "execution_count": 47,
   "id": "89b4121c",
   "metadata": {
    "execution": {
     "iopub.execute_input": "2022-12-14T20:43:45.792292Z",
     "iopub.status.busy": "2022-12-14T20:43:45.791798Z",
     "iopub.status.idle": "2022-12-14T20:43:45.798834Z",
     "shell.execute_reply": "2022-12-14T20:43:45.797504Z"
    },
    "papermill": {
     "duration": 0.034738,
     "end_time": "2022-12-14T20:43:45.801076",
     "exception": false,
     "start_time": "2022-12-14T20:43:45.766338",
     "status": "completed"
    },
    "tags": []
   },
   "outputs": [],
   "source": [
    "params = {'learning_rate': 0.3, \n",
    "          'depth': 6, \n",
    "          'l2_leaf_reg': 1, \n",
    "          'loss_function': 'MultiRMSE', \n",
    "          'eval_metric': 'MultiRMSE', \n",
    "          'task_type': 'CPU', \n",
    "          'iterations': 1000,\n",
    "          'od_type': 'Iter', \n",
    "          'boosting_type': 'Plain', \n",
    "          'bootstrap_type': 'Bayesian', \n",
    "          'allow_const_label': True, \n",
    "          'random_state': 1,\n",
    "          'border_count': 200,\n",
    "         }"
   ]
  },
  {
   "cell_type": "code",
   "execution_count": 48,
   "id": "da2564b3",
   "metadata": {
    "execution": {
     "iopub.execute_input": "2022-12-14T20:43:45.851146Z",
     "iopub.status.busy": "2022-12-14T20:43:45.850214Z",
     "iopub.status.idle": "2022-12-14T20:46:48.285545Z",
     "shell.execute_reply": "2022-12-14T20:46:48.284091Z"
    },
    "papermill": {
     "duration": 182.463566,
     "end_time": "2022-12-14T20:46:48.288691",
     "exception": false,
     "start_time": "2022-12-14T20:43:45.825125",
     "status": "completed"
    },
    "tags": []
   },
   "outputs": [
    {
     "name": "stdout",
     "output_type": "stream",
     "text": [
      "0:\tlearn: 0.5557777\ttotal: 296ms\tremaining: 4m 55s\n",
      "1:\tlearn: 0.5321513\ttotal: 476ms\tremaining: 3m 57s\n",
      "2:\tlearn: 0.5199321\ttotal: 663ms\tremaining: 3m 40s\n",
      "3:\tlearn: 0.5095707\ttotal: 843ms\tremaining: 3m 29s\n",
      "4:\tlearn: 0.5025812\ttotal: 1.02s\tremaining: 3m 23s\n",
      "5:\tlearn: 0.4933575\ttotal: 1.2s\tremaining: 3m 19s\n",
      "6:\tlearn: 0.4854754\ttotal: 1.38s\tremaining: 3m 16s\n",
      "7:\tlearn: 0.4802216\ttotal: 1.56s\tremaining: 3m 13s\n",
      "8:\tlearn: 0.4773556\ttotal: 1.74s\tremaining: 3m 12s\n",
      "9:\tlearn: 0.4738582\ttotal: 1.92s\tremaining: 3m 10s\n",
      "10:\tlearn: 0.4709981\ttotal: 2.1s\tremaining: 3m 8s\n",
      "11:\tlearn: 0.4677876\ttotal: 2.28s\tremaining: 3m 7s\n",
      "12:\tlearn: 0.4644541\ttotal: 2.46s\tremaining: 3m 6s\n",
      "13:\tlearn: 0.4628748\ttotal: 2.63s\tremaining: 3m 5s\n",
      "14:\tlearn: 0.4607884\ttotal: 2.82s\tremaining: 3m 5s\n",
      "15:\tlearn: 0.4574232\ttotal: 3s\tremaining: 3m 4s\n",
      "16:\tlearn: 0.4556721\ttotal: 3.18s\tremaining: 3m 3s\n",
      "17:\tlearn: 0.4520146\ttotal: 3.35s\tremaining: 3m 2s\n",
      "18:\tlearn: 0.4501489\ttotal: 3.53s\tremaining: 3m 2s\n",
      "19:\tlearn: 0.4486814\ttotal: 3.71s\tremaining: 3m 1s\n",
      "20:\tlearn: 0.4457627\ttotal: 3.89s\tremaining: 3m 1s\n",
      "21:\tlearn: 0.4418822\ttotal: 4.07s\tremaining: 3m\n",
      "22:\tlearn: 0.4392017\ttotal: 4.25s\tremaining: 3m\n",
      "23:\tlearn: 0.4375362\ttotal: 4.42s\tremaining: 2m 59s\n",
      "24:\tlearn: 0.4363156\ttotal: 4.6s\tremaining: 2m 59s\n",
      "25:\tlearn: 0.4339332\ttotal: 4.78s\tremaining: 2m 58s\n",
      "26:\tlearn: 0.4319681\ttotal: 4.96s\tremaining: 2m 58s\n",
      "27:\tlearn: 0.4293948\ttotal: 5.13s\tremaining: 2m 58s\n",
      "28:\tlearn: 0.4267372\ttotal: 5.31s\tremaining: 2m 57s\n",
      "29:\tlearn: 0.4255037\ttotal: 5.49s\tremaining: 2m 57s\n",
      "30:\tlearn: 0.4231631\ttotal: 5.67s\tremaining: 2m 57s\n",
      "31:\tlearn: 0.4207222\ttotal: 5.85s\tremaining: 2m 56s\n",
      "32:\tlearn: 0.4193049\ttotal: 6.03s\tremaining: 2m 56s\n",
      "33:\tlearn: 0.4175307\ttotal: 6.21s\tremaining: 2m 56s\n",
      "34:\tlearn: 0.4153881\ttotal: 6.39s\tremaining: 2m 56s\n",
      "35:\tlearn: 0.4134849\ttotal: 6.57s\tremaining: 2m 55s\n",
      "36:\tlearn: 0.4110728\ttotal: 6.75s\tremaining: 2m 55s\n",
      "37:\tlearn: 0.4084150\ttotal: 6.97s\tremaining: 2m 56s\n",
      "38:\tlearn: 0.4069457\ttotal: 7.15s\tremaining: 2m 56s\n",
      "39:\tlearn: 0.4044524\ttotal: 7.33s\tremaining: 2m 55s\n",
      "40:\tlearn: 0.4028564\ttotal: 7.5s\tremaining: 2m 55s\n",
      "41:\tlearn: 0.4004492\ttotal: 7.68s\tremaining: 2m 55s\n",
      "42:\tlearn: 0.3986086\ttotal: 7.85s\tremaining: 2m 54s\n",
      "43:\tlearn: 0.3961660\ttotal: 8.04s\tremaining: 2m 54s\n",
      "44:\tlearn: 0.3948725\ttotal: 8.21s\tremaining: 2m 54s\n",
      "45:\tlearn: 0.3934925\ttotal: 8.39s\tremaining: 2m 53s\n",
      "46:\tlearn: 0.3923394\ttotal: 8.57s\tremaining: 2m 53s\n",
      "47:\tlearn: 0.3913650\ttotal: 8.74s\tremaining: 2m 53s\n",
      "48:\tlearn: 0.3905830\ttotal: 8.92s\tremaining: 2m 53s\n",
      "49:\tlearn: 0.3875147\ttotal: 9.1s\tremaining: 2m 52s\n",
      "50:\tlearn: 0.3847558\ttotal: 9.28s\tremaining: 2m 52s\n",
      "51:\tlearn: 0.3833572\ttotal: 9.45s\tremaining: 2m 52s\n",
      "52:\tlearn: 0.3818944\ttotal: 9.63s\tremaining: 2m 52s\n",
      "53:\tlearn: 0.3801232\ttotal: 9.81s\tremaining: 2m 51s\n",
      "54:\tlearn: 0.3787875\ttotal: 9.99s\tremaining: 2m 51s\n",
      "55:\tlearn: 0.3767568\ttotal: 10.2s\tremaining: 2m 51s\n",
      "56:\tlearn: 0.3756222\ttotal: 10.4s\tremaining: 2m 51s\n",
      "57:\tlearn: 0.3738632\ttotal: 10.5s\tremaining: 2m 51s\n",
      "58:\tlearn: 0.3724533\ttotal: 10.7s\tremaining: 2m 50s\n",
      "59:\tlearn: 0.3710063\ttotal: 10.9s\tremaining: 2m 50s\n",
      "60:\tlearn: 0.3699375\ttotal: 11.1s\tremaining: 2m 50s\n",
      "61:\tlearn: 0.3690542\ttotal: 11.2s\tremaining: 2m 50s\n",
      "62:\tlearn: 0.3674749\ttotal: 11.4s\tremaining: 2m 49s\n",
      "63:\tlearn: 0.3661306\ttotal: 11.6s\tremaining: 2m 49s\n",
      "64:\tlearn: 0.3651020\ttotal: 11.8s\tremaining: 2m 49s\n",
      "65:\tlearn: 0.3641058\ttotal: 12s\tremaining: 2m 49s\n",
      "66:\tlearn: 0.3626548\ttotal: 12.1s\tremaining: 2m 48s\n",
      "67:\tlearn: 0.3613261\ttotal: 12.3s\tremaining: 2m 48s\n",
      "68:\tlearn: 0.3603822\ttotal: 12.5s\tremaining: 2m 48s\n",
      "69:\tlearn: 0.3591580\ttotal: 12.7s\tremaining: 2m 48s\n",
      "70:\tlearn: 0.3580615\ttotal: 12.9s\tremaining: 2m 48s\n",
      "71:\tlearn: 0.3562850\ttotal: 13s\tremaining: 2m 47s\n",
      "72:\tlearn: 0.3551005\ttotal: 13.2s\tremaining: 2m 47s\n",
      "73:\tlearn: 0.3539624\ttotal: 13.4s\tremaining: 2m 47s\n",
      "74:\tlearn: 0.3527588\ttotal: 13.6s\tremaining: 2m 47s\n",
      "75:\tlearn: 0.3516430\ttotal: 13.7s\tremaining: 2m 47s\n",
      "76:\tlearn: 0.3503874\ttotal: 13.9s\tremaining: 2m 46s\n",
      "77:\tlearn: 0.3483093\ttotal: 14.1s\tremaining: 2m 46s\n",
      "78:\tlearn: 0.3467138\ttotal: 14.3s\tremaining: 2m 46s\n",
      "79:\tlearn: 0.3453349\ttotal: 14.5s\tremaining: 2m 46s\n",
      "80:\tlearn: 0.3436802\ttotal: 14.6s\tremaining: 2m 46s\n",
      "81:\tlearn: 0.3421378\ttotal: 14.8s\tremaining: 2m 45s\n",
      "82:\tlearn: 0.3409477\ttotal: 15s\tremaining: 2m 45s\n",
      "83:\tlearn: 0.3398047\ttotal: 15.2s\tremaining: 2m 45s\n",
      "84:\tlearn: 0.3380111\ttotal: 15.4s\tremaining: 2m 45s\n",
      "85:\tlearn: 0.3366265\ttotal: 15.5s\tremaining: 2m 45s\n",
      "86:\tlearn: 0.3351674\ttotal: 15.7s\tremaining: 2m 44s\n",
      "87:\tlearn: 0.3341448\ttotal: 15.9s\tremaining: 2m 44s\n",
      "88:\tlearn: 0.3331417\ttotal: 16.1s\tremaining: 2m 44s\n",
      "89:\tlearn: 0.3318267\ttotal: 16.3s\tremaining: 2m 44s\n",
      "90:\tlearn: 0.3307675\ttotal: 16.4s\tremaining: 2m 44s\n",
      "91:\tlearn: 0.3288697\ttotal: 16.6s\tremaining: 2m 44s\n",
      "92:\tlearn: 0.3269783\ttotal: 16.8s\tremaining: 2m 43s\n",
      "93:\tlearn: 0.3261258\ttotal: 17s\tremaining: 2m 43s\n",
      "94:\tlearn: 0.3248356\ttotal: 17.2s\tremaining: 2m 43s\n",
      "95:\tlearn: 0.3231237\ttotal: 17.3s\tremaining: 2m 43s\n",
      "96:\tlearn: 0.3219599\ttotal: 17.5s\tremaining: 2m 43s\n",
      "97:\tlearn: 0.3206722\ttotal: 17.7s\tremaining: 2m 42s\n",
      "98:\tlearn: 0.3193061\ttotal: 17.9s\tremaining: 2m 43s\n",
      "99:\tlearn: 0.3177214\ttotal: 18.1s\tremaining: 2m 42s\n",
      "100:\tlearn: 0.3158787\ttotal: 18.3s\tremaining: 2m 42s\n",
      "101:\tlearn: 0.3148719\ttotal: 18.4s\tremaining: 2m 42s\n",
      "102:\tlearn: 0.3140974\ttotal: 18.6s\tremaining: 2m 42s\n",
      "103:\tlearn: 0.3129535\ttotal: 18.8s\tremaining: 2m 41s\n",
      "104:\tlearn: 0.3121308\ttotal: 19s\tremaining: 2m 41s\n",
      "105:\tlearn: 0.3108915\ttotal: 19.2s\tremaining: 2m 41s\n",
      "106:\tlearn: 0.3100681\ttotal: 19.3s\tremaining: 2m 41s\n",
      "107:\tlearn: 0.3086349\ttotal: 19.5s\tremaining: 2m 41s\n",
      "108:\tlearn: 0.3077701\ttotal: 19.7s\tremaining: 2m 40s\n",
      "109:\tlearn: 0.3067889\ttotal: 19.9s\tremaining: 2m 40s\n",
      "110:\tlearn: 0.3059993\ttotal: 20s\tremaining: 2m 40s\n",
      "111:\tlearn: 0.3052177\ttotal: 20.2s\tremaining: 2m 40s\n",
      "112:\tlearn: 0.3043657\ttotal: 20.4s\tremaining: 2m 40s\n",
      "113:\tlearn: 0.3035804\ttotal: 20.6s\tremaining: 2m 39s\n",
      "114:\tlearn: 0.3025259\ttotal: 20.8s\tremaining: 2m 39s\n",
      "115:\tlearn: 0.3009644\ttotal: 21s\tremaining: 2m 40s\n",
      "116:\tlearn: 0.3001928\ttotal: 21.3s\tremaining: 2m 40s\n",
      "117:\tlearn: 0.2993533\ttotal: 21.5s\tremaining: 2m 40s\n",
      "118:\tlearn: 0.2986652\ttotal: 21.7s\tremaining: 2m 40s\n",
      "119:\tlearn: 0.2968084\ttotal: 21.9s\tremaining: 2m 40s\n",
      "120:\tlearn: 0.2957127\ttotal: 22.1s\tremaining: 2m 40s\n",
      "121:\tlearn: 0.2951491\ttotal: 22.3s\tremaining: 2m 40s\n",
      "122:\tlearn: 0.2943831\ttotal: 22.5s\tremaining: 2m 40s\n",
      "123:\tlearn: 0.2933121\ttotal: 22.7s\tremaining: 2m 40s\n",
      "124:\tlearn: 0.2921951\ttotal: 22.9s\tremaining: 2m 40s\n",
      "125:\tlearn: 0.2913207\ttotal: 23s\tremaining: 2m 39s\n",
      "126:\tlearn: 0.2902620\ttotal: 23.2s\tremaining: 2m 39s\n",
      "127:\tlearn: 0.2894005\ttotal: 23.4s\tremaining: 2m 39s\n",
      "128:\tlearn: 0.2887765\ttotal: 23.6s\tremaining: 2m 39s\n",
      "129:\tlearn: 0.2871463\ttotal: 23.8s\tremaining: 2m 38s\n",
      "130:\tlearn: 0.2865906\ttotal: 23.9s\tremaining: 2m 38s\n",
      "131:\tlearn: 0.2857243\ttotal: 24.1s\tremaining: 2m 38s\n",
      "132:\tlearn: 0.2850769\ttotal: 24.3s\tremaining: 2m 38s\n",
      "133:\tlearn: 0.2842337\ttotal: 24.5s\tremaining: 2m 38s\n",
      "134:\tlearn: 0.2834254\ttotal: 24.6s\tremaining: 2m 37s\n",
      "135:\tlearn: 0.2823924\ttotal: 24.8s\tremaining: 2m 37s\n",
      "136:\tlearn: 0.2816600\ttotal: 25s\tremaining: 2m 37s\n",
      "137:\tlearn: 0.2804266\ttotal: 25.2s\tremaining: 2m 37s\n",
      "138:\tlearn: 0.2798146\ttotal: 25.4s\tremaining: 2m 37s\n",
      "139:\tlearn: 0.2794487\ttotal: 25.5s\tremaining: 2m 36s\n",
      "140:\tlearn: 0.2784832\ttotal: 25.7s\tremaining: 2m 36s\n",
      "141:\tlearn: 0.2778014\ttotal: 25.9s\tremaining: 2m 36s\n",
      "142:\tlearn: 0.2769224\ttotal: 26.1s\tremaining: 2m 36s\n",
      "143:\tlearn: 0.2762423\ttotal: 26.2s\tremaining: 2m 35s\n",
      "144:\tlearn: 0.2755892\ttotal: 26.4s\tremaining: 2m 35s\n",
      "145:\tlearn: 0.2750486\ttotal: 26.6s\tremaining: 2m 35s\n",
      "146:\tlearn: 0.2745152\ttotal: 26.8s\tremaining: 2m 35s\n",
      "147:\tlearn: 0.2738106\ttotal: 26.9s\tremaining: 2m 35s\n",
      "148:\tlearn: 0.2730900\ttotal: 27.1s\tremaining: 2m 34s\n",
      "149:\tlearn: 0.2720232\ttotal: 27.3s\tremaining: 2m 34s\n",
      "150:\tlearn: 0.2709541\ttotal: 27.5s\tremaining: 2m 34s\n",
      "151:\tlearn: 0.2698251\ttotal: 27.7s\tremaining: 2m 34s\n",
      "152:\tlearn: 0.2694613\ttotal: 27.8s\tremaining: 2m 34s\n",
      "153:\tlearn: 0.2682433\ttotal: 28s\tremaining: 2m 33s\n",
      "154:\tlearn: 0.2676574\ttotal: 28.2s\tremaining: 2m 33s\n",
      "155:\tlearn: 0.2668231\ttotal: 28.4s\tremaining: 2m 33s\n",
      "156:\tlearn: 0.2656313\ttotal: 28.6s\tremaining: 2m 33s\n",
      "157:\tlearn: 0.2644398\ttotal: 28.8s\tremaining: 2m 33s\n",
      "158:\tlearn: 0.2635374\ttotal: 28.9s\tremaining: 2m 33s\n",
      "159:\tlearn: 0.2629864\ttotal: 29.1s\tremaining: 2m 32s\n",
      "160:\tlearn: 0.2622145\ttotal: 29.3s\tremaining: 2m 32s\n",
      "161:\tlearn: 0.2616931\ttotal: 29.5s\tremaining: 2m 32s\n",
      "162:\tlearn: 0.2609217\ttotal: 29.7s\tremaining: 2m 32s\n",
      "163:\tlearn: 0.2599206\ttotal: 29.8s\tremaining: 2m 32s\n",
      "164:\tlearn: 0.2594070\ttotal: 30s\tremaining: 2m 31s\n",
      "165:\tlearn: 0.2586385\ttotal: 30.2s\tremaining: 2m 31s\n",
      "166:\tlearn: 0.2574544\ttotal: 30.4s\tremaining: 2m 31s\n",
      "167:\tlearn: 0.2567364\ttotal: 30.6s\tremaining: 2m 31s\n",
      "168:\tlearn: 0.2558715\ttotal: 30.7s\tremaining: 2m 31s\n",
      "169:\tlearn: 0.2549147\ttotal: 30.9s\tremaining: 2m 30s\n",
      "170:\tlearn: 0.2539824\ttotal: 31.1s\tremaining: 2m 30s\n",
      "171:\tlearn: 0.2532476\ttotal: 31.3s\tremaining: 2m 30s\n",
      "172:\tlearn: 0.2526636\ttotal: 31.4s\tremaining: 2m 30s\n",
      "173:\tlearn: 0.2518242\ttotal: 31.6s\tremaining: 2m 30s\n",
      "174:\tlearn: 0.2512569\ttotal: 31.8s\tremaining: 2m 29s\n",
      "175:\tlearn: 0.2507856\ttotal: 32s\tremaining: 2m 29s\n",
      "176:\tlearn: 0.2501659\ttotal: 32.2s\tremaining: 2m 29s\n",
      "177:\tlearn: 0.2484182\ttotal: 32.3s\tremaining: 2m 29s\n",
      "178:\tlearn: 0.2476669\ttotal: 32.5s\tremaining: 2m 29s\n",
      "179:\tlearn: 0.2470847\ttotal: 32.7s\tremaining: 2m 28s\n",
      "180:\tlearn: 0.2461699\ttotal: 32.9s\tremaining: 2m 28s\n",
      "181:\tlearn: 0.2454607\ttotal: 33.1s\tremaining: 2m 28s\n",
      "182:\tlearn: 0.2446248\ttotal: 33.2s\tremaining: 2m 28s\n",
      "183:\tlearn: 0.2438210\ttotal: 33.4s\tremaining: 2m 28s\n",
      "184:\tlearn: 0.2429345\ttotal: 33.6s\tremaining: 2m 27s\n",
      "185:\tlearn: 0.2415753\ttotal: 33.8s\tremaining: 2m 27s\n",
      "186:\tlearn: 0.2408375\ttotal: 34s\tremaining: 2m 27s\n",
      "187:\tlearn: 0.2401006\ttotal: 34.1s\tremaining: 2m 27s\n",
      "188:\tlearn: 0.2393997\ttotal: 34.3s\tremaining: 2m 27s\n",
      "189:\tlearn: 0.2388552\ttotal: 34.5s\tremaining: 2m 26s\n",
      "190:\tlearn: 0.2375466\ttotal: 34.7s\tremaining: 2m 26s\n",
      "191:\tlearn: 0.2371454\ttotal: 34.8s\tremaining: 2m 26s\n",
      "192:\tlearn: 0.2366723\ttotal: 35s\tremaining: 2m 26s\n",
      "193:\tlearn: 0.2361450\ttotal: 35.2s\tremaining: 2m 26s\n",
      "194:\tlearn: 0.2349944\ttotal: 35.4s\tremaining: 2m 25s\n",
      "195:\tlearn: 0.2343564\ttotal: 35.5s\tremaining: 2m 25s\n",
      "196:\tlearn: 0.2336938\ttotal: 35.7s\tremaining: 2m 25s\n",
      "197:\tlearn: 0.2330577\ttotal: 35.9s\tremaining: 2m 25s\n",
      "198:\tlearn: 0.2325017\ttotal: 36.1s\tremaining: 2m 25s\n",
      "199:\tlearn: 0.2309020\ttotal: 36.3s\tremaining: 2m 25s\n",
      "200:\tlearn: 0.2305233\ttotal: 36.4s\tremaining: 2m 24s\n",
      "201:\tlearn: 0.2300626\ttotal: 36.6s\tremaining: 2m 24s\n",
      "202:\tlearn: 0.2294462\ttotal: 36.8s\tremaining: 2m 24s\n",
      "203:\tlearn: 0.2289480\ttotal: 37s\tremaining: 2m 24s\n",
      "204:\tlearn: 0.2283337\ttotal: 37.1s\tremaining: 2m 24s\n",
      "205:\tlearn: 0.2278736\ttotal: 37.3s\tremaining: 2m 23s\n",
      "206:\tlearn: 0.2273367\ttotal: 37.5s\tremaining: 2m 23s\n",
      "207:\tlearn: 0.2269179\ttotal: 37.7s\tremaining: 2m 23s\n",
      "208:\tlearn: 0.2262272\ttotal: 37.9s\tremaining: 2m 23s\n",
      "209:\tlearn: 0.2255761\ttotal: 38s\tremaining: 2m 23s\n",
      "210:\tlearn: 0.2243751\ttotal: 38.2s\tremaining: 2m 22s\n",
      "211:\tlearn: 0.2238708\ttotal: 38.4s\tremaining: 2m 22s\n",
      "212:\tlearn: 0.2232713\ttotal: 38.6s\tremaining: 2m 22s\n",
      "213:\tlearn: 0.2226795\ttotal: 38.7s\tremaining: 2m 22s\n",
      "214:\tlearn: 0.2222112\ttotal: 38.9s\tremaining: 2m 22s\n",
      "215:\tlearn: 0.2217706\ttotal: 39.1s\tremaining: 2m 21s\n",
      "216:\tlearn: 0.2209862\ttotal: 39.3s\tremaining: 2m 21s\n",
      "217:\tlearn: 0.2205092\ttotal: 39.5s\tremaining: 2m 21s\n",
      "218:\tlearn: 0.2201527\ttotal: 39.6s\tremaining: 2m 21s\n",
      "219:\tlearn: 0.2197102\ttotal: 39.8s\tremaining: 2m 21s\n",
      "220:\tlearn: 0.2189710\ttotal: 40s\tremaining: 2m 21s\n",
      "221:\tlearn: 0.2184450\ttotal: 40.2s\tremaining: 2m 20s\n",
      "222:\tlearn: 0.2175919\ttotal: 40.4s\tremaining: 2m 20s\n",
      "223:\tlearn: 0.2170138\ttotal: 40.6s\tremaining: 2m 20s\n",
      "224:\tlearn: 0.2166438\ttotal: 40.7s\tremaining: 2m 20s\n",
      "225:\tlearn: 0.2159023\ttotal: 40.9s\tremaining: 2m 20s\n",
      "226:\tlearn: 0.2155541\ttotal: 41.1s\tremaining: 2m 19s\n",
      "227:\tlearn: 0.2148224\ttotal: 41.3s\tremaining: 2m 19s\n",
      "228:\tlearn: 0.2145240\ttotal: 41.5s\tremaining: 2m 19s\n",
      "229:\tlearn: 0.2135906\ttotal: 41.6s\tremaining: 2m 19s\n",
      "230:\tlearn: 0.2126548\ttotal: 41.8s\tremaining: 2m 19s\n",
      "231:\tlearn: 0.2115157\ttotal: 42s\tremaining: 2m 19s\n",
      "232:\tlearn: 0.2109077\ttotal: 42.2s\tremaining: 2m 18s\n",
      "233:\tlearn: 0.2103691\ttotal: 42.4s\tremaining: 2m 18s\n",
      "234:\tlearn: 0.2100275\ttotal: 42.5s\tremaining: 2m 18s\n",
      "235:\tlearn: 0.2095144\ttotal: 42.7s\tremaining: 2m 18s\n",
      "236:\tlearn: 0.2088204\ttotal: 42.9s\tremaining: 2m 18s\n",
      "237:\tlearn: 0.2085291\ttotal: 43.1s\tremaining: 2m 17s\n",
      "238:\tlearn: 0.2073590\ttotal: 43.3s\tremaining: 2m 17s\n",
      "239:\tlearn: 0.2066686\ttotal: 43.4s\tremaining: 2m 17s\n",
      "240:\tlearn: 0.2063259\ttotal: 43.6s\tremaining: 2m 17s\n",
      "241:\tlearn: 0.2059290\ttotal: 43.8s\tremaining: 2m 17s\n",
      "242:\tlearn: 0.2049391\ttotal: 44s\tremaining: 2m 16s\n",
      "243:\tlearn: 0.2042906\ttotal: 44.2s\tremaining: 2m 16s\n",
      "244:\tlearn: 0.2037869\ttotal: 44.3s\tremaining: 2m 16s\n",
      "245:\tlearn: 0.2030221\ttotal: 44.5s\tremaining: 2m 16s\n",
      "246:\tlearn: 0.2025593\ttotal: 44.7s\tremaining: 2m 16s\n",
      "247:\tlearn: 0.2020662\ttotal: 44.9s\tremaining: 2m 16s\n",
      "248:\tlearn: 0.2017771\ttotal: 45s\tremaining: 2m 15s\n",
      "249:\tlearn: 0.2012919\ttotal: 45.2s\tremaining: 2m 15s\n",
      "250:\tlearn: 0.2001641\ttotal: 45.4s\tremaining: 2m 15s\n",
      "251:\tlearn: 0.1995544\ttotal: 45.6s\tremaining: 2m 15s\n",
      "252:\tlearn: 0.1991775\ttotal: 45.8s\tremaining: 2m 15s\n",
      "253:\tlearn: 0.1986154\ttotal: 45.9s\tremaining: 2m 14s\n",
      "254:\tlearn: 0.1983448\ttotal: 46.1s\tremaining: 2m 14s\n",
      "255:\tlearn: 0.1977484\ttotal: 46.3s\tremaining: 2m 14s\n",
      "256:\tlearn: 0.1971067\ttotal: 46.5s\tremaining: 2m 14s\n",
      "257:\tlearn: 0.1965583\ttotal: 46.6s\tremaining: 2m 14s\n",
      "258:\tlearn: 0.1956812\ttotal: 46.8s\tremaining: 2m 13s\n",
      "259:\tlearn: 0.1950346\ttotal: 47s\tremaining: 2m 13s\n",
      "260:\tlearn: 0.1941710\ttotal: 47.2s\tremaining: 2m 13s\n",
      "261:\tlearn: 0.1936639\ttotal: 47.4s\tremaining: 2m 13s\n",
      "262:\tlearn: 0.1929846\ttotal: 47.5s\tremaining: 2m 13s\n",
      "263:\tlearn: 0.1927078\ttotal: 47.7s\tremaining: 2m 13s\n",
      "264:\tlearn: 0.1920371\ttotal: 47.9s\tremaining: 2m 12s\n",
      "265:\tlearn: 0.1914381\ttotal: 48.1s\tremaining: 2m 12s\n",
      "266:\tlearn: 0.1911792\ttotal: 48.3s\tremaining: 2m 12s\n",
      "267:\tlearn: 0.1907033\ttotal: 48.4s\tremaining: 2m 12s\n",
      "268:\tlearn: 0.1901447\ttotal: 48.6s\tremaining: 2m 12s\n",
      "269:\tlearn: 0.1898408\ttotal: 48.8s\tremaining: 2m 11s\n",
      "270:\tlearn: 0.1890568\ttotal: 49s\tremaining: 2m 11s\n",
      "271:\tlearn: 0.1884017\ttotal: 49.2s\tremaining: 2m 11s\n",
      "272:\tlearn: 0.1880044\ttotal: 49.3s\tremaining: 2m 11s\n",
      "273:\tlearn: 0.1875100\ttotal: 49.5s\tremaining: 2m 11s\n",
      "274:\tlearn: 0.1866902\ttotal: 49.7s\tremaining: 2m 11s\n",
      "275:\tlearn: 0.1860929\ttotal: 49.9s\tremaining: 2m 10s\n",
      "276:\tlearn: 0.1854896\ttotal: 50s\tremaining: 2m 10s\n",
      "277:\tlearn: 0.1847865\ttotal: 50.2s\tremaining: 2m 10s\n",
      "278:\tlearn: 0.1841045\ttotal: 50.4s\tremaining: 2m 10s\n",
      "279:\tlearn: 0.1835082\ttotal: 50.6s\tremaining: 2m 10s\n",
      "280:\tlearn: 0.1829964\ttotal: 50.8s\tremaining: 2m 9s\n",
      "281:\tlearn: 0.1823593\ttotal: 51s\tremaining: 2m 9s\n",
      "282:\tlearn: 0.1818458\ttotal: 51.2s\tremaining: 2m 9s\n",
      "283:\tlearn: 0.1811768\ttotal: 51.3s\tremaining: 2m 9s\n",
      "284:\tlearn: 0.1806774\ttotal: 51.5s\tremaining: 2m 9s\n",
      "285:\tlearn: 0.1801954\ttotal: 51.7s\tremaining: 2m 9s\n",
      "286:\tlearn: 0.1798330\ttotal: 51.9s\tremaining: 2m 8s\n",
      "287:\tlearn: 0.1795512\ttotal: 52.1s\tremaining: 2m 8s\n",
      "288:\tlearn: 0.1790422\ttotal: 52.3s\tremaining: 2m 8s\n",
      "289:\tlearn: 0.1785780\ttotal: 52.5s\tremaining: 2m 8s\n",
      "290:\tlearn: 0.1781644\ttotal: 52.8s\tremaining: 2m 8s\n",
      "291:\tlearn: 0.1776042\ttotal: 53s\tremaining: 2m 8s\n",
      "292:\tlearn: 0.1769350\ttotal: 53.2s\tremaining: 2m 8s\n",
      "293:\tlearn: 0.1761666\ttotal: 53.4s\tremaining: 2m 8s\n",
      "294:\tlearn: 0.1751918\ttotal: 53.6s\tremaining: 2m 8s\n",
      "295:\tlearn: 0.1746671\ttotal: 53.8s\tremaining: 2m 7s\n",
      "296:\tlearn: 0.1742693\ttotal: 54s\tremaining: 2m 7s\n",
      "297:\tlearn: 0.1738963\ttotal: 54.2s\tremaining: 2m 7s\n",
      "298:\tlearn: 0.1733952\ttotal: 54.3s\tremaining: 2m 7s\n",
      "299:\tlearn: 0.1728669\ttotal: 54.5s\tremaining: 2m 7s\n",
      "300:\tlearn: 0.1723501\ttotal: 54.7s\tremaining: 2m 7s\n",
      "301:\tlearn: 0.1717016\ttotal: 54.9s\tremaining: 2m 6s\n",
      "302:\tlearn: 0.1711120\ttotal: 55.1s\tremaining: 2m 6s\n",
      "303:\tlearn: 0.1705134\ttotal: 55.2s\tremaining: 2m 6s\n",
      "304:\tlearn: 0.1700204\ttotal: 55.4s\tremaining: 2m 6s\n",
      "305:\tlearn: 0.1697355\ttotal: 55.6s\tremaining: 2m 6s\n",
      "306:\tlearn: 0.1695527\ttotal: 55.8s\tremaining: 2m 5s\n",
      "307:\tlearn: 0.1690041\ttotal: 56s\tremaining: 2m 5s\n",
      "308:\tlearn: 0.1681108\ttotal: 56.1s\tremaining: 2m 5s\n",
      "309:\tlearn: 0.1676672\ttotal: 56.3s\tremaining: 2m 5s\n",
      "310:\tlearn: 0.1673846\ttotal: 56.5s\tremaining: 2m 5s\n",
      "311:\tlearn: 0.1666418\ttotal: 56.7s\tremaining: 2m 4s\n",
      "312:\tlearn: 0.1663552\ttotal: 56.8s\tremaining: 2m 4s\n",
      "313:\tlearn: 0.1659948\ttotal: 57s\tremaining: 2m 4s\n",
      "314:\tlearn: 0.1654089\ttotal: 57.2s\tremaining: 2m 4s\n",
      "315:\tlearn: 0.1648300\ttotal: 57.4s\tremaining: 2m 4s\n",
      "316:\tlearn: 0.1642594\ttotal: 57.6s\tremaining: 2m 4s\n",
      "317:\tlearn: 0.1636642\ttotal: 57.7s\tremaining: 2m 3s\n",
      "318:\tlearn: 0.1632922\ttotal: 57.9s\tremaining: 2m 3s\n",
      "319:\tlearn: 0.1628509\ttotal: 58.1s\tremaining: 2m 3s\n",
      "320:\tlearn: 0.1625495\ttotal: 58.3s\tremaining: 2m 3s\n",
      "321:\tlearn: 0.1619137\ttotal: 58.5s\tremaining: 2m 3s\n",
      "322:\tlearn: 0.1616385\ttotal: 58.6s\tremaining: 2m 2s\n",
      "323:\tlearn: 0.1609862\ttotal: 58.8s\tremaining: 2m 2s\n",
      "324:\tlearn: 0.1604841\ttotal: 59s\tremaining: 2m 2s\n",
      "325:\tlearn: 0.1601380\ttotal: 59.2s\tremaining: 2m 2s\n",
      "326:\tlearn: 0.1595521\ttotal: 59.4s\tremaining: 2m 2s\n",
      "327:\tlearn: 0.1592694\ttotal: 59.5s\tremaining: 2m 1s\n",
      "328:\tlearn: 0.1586073\ttotal: 59.7s\tremaining: 2m 1s\n",
      "329:\tlearn: 0.1577139\ttotal: 59.9s\tremaining: 2m 1s\n",
      "330:\tlearn: 0.1570306\ttotal: 1m\tremaining: 2m 1s\n",
      "331:\tlearn: 0.1565489\ttotal: 1m\tremaining: 2m 1s\n",
      "332:\tlearn: 0.1560549\ttotal: 1m\tremaining: 2m 1s\n",
      "333:\tlearn: 0.1552480\ttotal: 1m\tremaining: 2m\n",
      "334:\tlearn: 0.1546773\ttotal: 1m\tremaining: 2m\n",
      "335:\tlearn: 0.1542657\ttotal: 1m\tremaining: 2m\n",
      "336:\tlearn: 0.1538778\ttotal: 1m 1s\tremaining: 2m\n",
      "337:\tlearn: 0.1534610\ttotal: 1m 1s\tremaining: 2m\n",
      "338:\tlearn: 0.1532573\ttotal: 1m 1s\tremaining: 1m 59s\n",
      "339:\tlearn: 0.1528951\ttotal: 1m 1s\tremaining: 1m 59s\n",
      "340:\tlearn: 0.1526512\ttotal: 1m 1s\tremaining: 1m 59s\n",
      "341:\tlearn: 0.1524518\ttotal: 1m 2s\tremaining: 1m 59s\n",
      "342:\tlearn: 0.1518910\ttotal: 1m 2s\tremaining: 1m 59s\n",
      "343:\tlearn: 0.1512585\ttotal: 1m 2s\tremaining: 1m 59s\n",
      "344:\tlearn: 0.1508951\ttotal: 1m 2s\tremaining: 1m 58s\n",
      "345:\tlearn: 0.1505391\ttotal: 1m 2s\tremaining: 1m 58s\n",
      "346:\tlearn: 0.1501981\ttotal: 1m 2s\tremaining: 1m 58s\n",
      "347:\tlearn: 0.1498981\ttotal: 1m 3s\tremaining: 1m 58s\n",
      "348:\tlearn: 0.1496327\ttotal: 1m 3s\tremaining: 1m 58s\n",
      "349:\tlearn: 0.1493320\ttotal: 1m 3s\tremaining: 1m 57s\n",
      "350:\tlearn: 0.1487765\ttotal: 1m 3s\tremaining: 1m 57s\n",
      "351:\tlearn: 0.1485276\ttotal: 1m 3s\tremaining: 1m 57s\n",
      "352:\tlearn: 0.1478748\ttotal: 1m 4s\tremaining: 1m 57s\n",
      "353:\tlearn: 0.1474684\ttotal: 1m 4s\tremaining: 1m 57s\n",
      "354:\tlearn: 0.1471863\ttotal: 1m 4s\tremaining: 1m 56s\n",
      "355:\tlearn: 0.1468727\ttotal: 1m 4s\tremaining: 1m 56s\n",
      "356:\tlearn: 0.1463405\ttotal: 1m 4s\tremaining: 1m 56s\n",
      "357:\tlearn: 0.1459352\ttotal: 1m 4s\tremaining: 1m 56s\n",
      "358:\tlearn: 0.1453574\ttotal: 1m 5s\tremaining: 1m 56s\n",
      "359:\tlearn: 0.1450068\ttotal: 1m 5s\tremaining: 1m 56s\n",
      "360:\tlearn: 0.1446108\ttotal: 1m 5s\tremaining: 1m 55s\n",
      "361:\tlearn: 0.1443269\ttotal: 1m 5s\tremaining: 1m 55s\n",
      "362:\tlearn: 0.1439332\ttotal: 1m 5s\tremaining: 1m 55s\n",
      "363:\tlearn: 0.1436877\ttotal: 1m 5s\tremaining: 1m 55s\n",
      "364:\tlearn: 0.1433634\ttotal: 1m 6s\tremaining: 1m 55s\n",
      "365:\tlearn: 0.1430661\ttotal: 1m 6s\tremaining: 1m 54s\n",
      "366:\tlearn: 0.1428191\ttotal: 1m 6s\tremaining: 1m 54s\n",
      "367:\tlearn: 0.1425016\ttotal: 1m 6s\tremaining: 1m 54s\n",
      "368:\tlearn: 0.1422105\ttotal: 1m 6s\tremaining: 1m 54s\n",
      "369:\tlearn: 0.1420081\ttotal: 1m 7s\tremaining: 1m 54s\n",
      "370:\tlearn: 0.1415423\ttotal: 1m 7s\tremaining: 1m 53s\n",
      "371:\tlearn: 0.1411630\ttotal: 1m 7s\tremaining: 1m 53s\n",
      "372:\tlearn: 0.1406825\ttotal: 1m 7s\tremaining: 1m 53s\n",
      "373:\tlearn: 0.1403417\ttotal: 1m 7s\tremaining: 1m 53s\n",
      "374:\tlearn: 0.1401260\ttotal: 1m 7s\tremaining: 1m 53s\n",
      "375:\tlearn: 0.1398583\ttotal: 1m 8s\tremaining: 1m 53s\n",
      "376:\tlearn: 0.1394374\ttotal: 1m 8s\tremaining: 1m 52s\n",
      "377:\tlearn: 0.1388080\ttotal: 1m 8s\tremaining: 1m 52s\n",
      "378:\tlearn: 0.1384184\ttotal: 1m 8s\tremaining: 1m 52s\n",
      "379:\tlearn: 0.1378695\ttotal: 1m 8s\tremaining: 1m 52s\n",
      "380:\tlearn: 0.1376290\ttotal: 1m 9s\tremaining: 1m 52s\n",
      "381:\tlearn: 0.1371683\ttotal: 1m 9s\tremaining: 1m 51s\n",
      "382:\tlearn: 0.1369400\ttotal: 1m 9s\tremaining: 1m 51s\n",
      "383:\tlearn: 0.1366733\ttotal: 1m 9s\tremaining: 1m 51s\n",
      "384:\tlearn: 0.1363837\ttotal: 1m 9s\tremaining: 1m 51s\n",
      "385:\tlearn: 0.1360532\ttotal: 1m 9s\tremaining: 1m 51s\n",
      "386:\tlearn: 0.1355367\ttotal: 1m 10s\tremaining: 1m 51s\n",
      "387:\tlearn: 0.1350850\ttotal: 1m 10s\tremaining: 1m 50s\n",
      "388:\tlearn: 0.1348636\ttotal: 1m 10s\tremaining: 1m 50s\n",
      "389:\tlearn: 0.1344691\ttotal: 1m 10s\tremaining: 1m 50s\n",
      "390:\tlearn: 0.1341088\ttotal: 1m 10s\tremaining: 1m 50s\n",
      "391:\tlearn: 0.1336550\ttotal: 1m 11s\tremaining: 1m 50s\n",
      "392:\tlearn: 0.1332810\ttotal: 1m 11s\tremaining: 1m 49s\n",
      "393:\tlearn: 0.1329728\ttotal: 1m 11s\tremaining: 1m 49s\n",
      "394:\tlearn: 0.1327565\ttotal: 1m 11s\tremaining: 1m 49s\n",
      "395:\tlearn: 0.1323263\ttotal: 1m 11s\tremaining: 1m 49s\n",
      "396:\tlearn: 0.1320742\ttotal: 1m 11s\tremaining: 1m 49s\n",
      "397:\tlearn: 0.1316473\ttotal: 1m 12s\tremaining: 1m 49s\n",
      "398:\tlearn: 0.1310687\ttotal: 1m 12s\tremaining: 1m 48s\n",
      "399:\tlearn: 0.1308158\ttotal: 1m 12s\tremaining: 1m 48s\n",
      "400:\tlearn: 0.1303998\ttotal: 1m 12s\tremaining: 1m 48s\n",
      "401:\tlearn: 0.1301893\ttotal: 1m 12s\tremaining: 1m 48s\n",
      "402:\tlearn: 0.1295228\ttotal: 1m 13s\tremaining: 1m 48s\n",
      "403:\tlearn: 0.1293215\ttotal: 1m 13s\tremaining: 1m 47s\n",
      "404:\tlearn: 0.1290094\ttotal: 1m 13s\tremaining: 1m 47s\n",
      "405:\tlearn: 0.1285800\ttotal: 1m 13s\tremaining: 1m 47s\n",
      "406:\tlearn: 0.1281908\ttotal: 1m 13s\tremaining: 1m 47s\n",
      "407:\tlearn: 0.1279825\ttotal: 1m 13s\tremaining: 1m 47s\n",
      "408:\tlearn: 0.1276924\ttotal: 1m 14s\tremaining: 1m 47s\n",
      "409:\tlearn: 0.1273203\ttotal: 1m 14s\tremaining: 1m 46s\n",
      "410:\tlearn: 0.1269371\ttotal: 1m 14s\tremaining: 1m 46s\n",
      "411:\tlearn: 0.1264174\ttotal: 1m 14s\tremaining: 1m 46s\n",
      "412:\tlearn: 0.1261782\ttotal: 1m 14s\tremaining: 1m 46s\n",
      "413:\tlearn: 0.1254584\ttotal: 1m 15s\tremaining: 1m 46s\n",
      "414:\tlearn: 0.1252389\ttotal: 1m 15s\tremaining: 1m 45s\n",
      "415:\tlearn: 0.1250297\ttotal: 1m 15s\tremaining: 1m 45s\n",
      "416:\tlearn: 0.1247719\ttotal: 1m 15s\tremaining: 1m 45s\n",
      "417:\tlearn: 0.1244862\ttotal: 1m 15s\tremaining: 1m 45s\n",
      "418:\tlearn: 0.1241079\ttotal: 1m 15s\tremaining: 1m 45s\n",
      "419:\tlearn: 0.1237099\ttotal: 1m 16s\tremaining: 1m 45s\n",
      "420:\tlearn: 0.1233937\ttotal: 1m 16s\tremaining: 1m 44s\n",
      "421:\tlearn: 0.1230123\ttotal: 1m 16s\tremaining: 1m 44s\n",
      "422:\tlearn: 0.1227885\ttotal: 1m 16s\tremaining: 1m 44s\n",
      "423:\tlearn: 0.1224985\ttotal: 1m 16s\tremaining: 1m 44s\n",
      "424:\tlearn: 0.1221280\ttotal: 1m 16s\tremaining: 1m 44s\n",
      "425:\tlearn: 0.1217201\ttotal: 1m 17s\tremaining: 1m 43s\n",
      "426:\tlearn: 0.1213437\ttotal: 1m 17s\tremaining: 1m 43s\n",
      "427:\tlearn: 0.1207333\ttotal: 1m 17s\tremaining: 1m 43s\n",
      "428:\tlearn: 0.1203406\ttotal: 1m 17s\tremaining: 1m 43s\n",
      "429:\tlearn: 0.1201775\ttotal: 1m 17s\tremaining: 1m 43s\n",
      "430:\tlearn: 0.1197570\ttotal: 1m 18s\tremaining: 1m 43s\n",
      "431:\tlearn: 0.1195208\ttotal: 1m 18s\tremaining: 1m 42s\n",
      "432:\tlearn: 0.1192741\ttotal: 1m 18s\tremaining: 1m 42s\n",
      "433:\tlearn: 0.1189642\ttotal: 1m 18s\tremaining: 1m 42s\n",
      "434:\tlearn: 0.1186447\ttotal: 1m 18s\tremaining: 1m 42s\n",
      "435:\tlearn: 0.1182893\ttotal: 1m 18s\tremaining: 1m 42s\n",
      "436:\tlearn: 0.1180995\ttotal: 1m 19s\tremaining: 1m 41s\n",
      "437:\tlearn: 0.1178286\ttotal: 1m 19s\tremaining: 1m 41s\n",
      "438:\tlearn: 0.1175785\ttotal: 1m 19s\tremaining: 1m 41s\n",
      "439:\tlearn: 0.1173044\ttotal: 1m 19s\tremaining: 1m 41s\n",
      "440:\tlearn: 0.1170247\ttotal: 1m 19s\tremaining: 1m 41s\n",
      "441:\tlearn: 0.1167930\ttotal: 1m 20s\tremaining: 1m 41s\n",
      "442:\tlearn: 0.1165306\ttotal: 1m 20s\tremaining: 1m 40s\n",
      "443:\tlearn: 0.1161084\ttotal: 1m 20s\tremaining: 1m 40s\n",
      "444:\tlearn: 0.1159330\ttotal: 1m 20s\tremaining: 1m 40s\n",
      "445:\tlearn: 0.1157437\ttotal: 1m 20s\tremaining: 1m 40s\n",
      "446:\tlearn: 0.1155288\ttotal: 1m 20s\tremaining: 1m 40s\n",
      "447:\tlearn: 0.1152856\ttotal: 1m 21s\tremaining: 1m 39s\n",
      "448:\tlearn: 0.1150887\ttotal: 1m 21s\tremaining: 1m 39s\n",
      "449:\tlearn: 0.1148792\ttotal: 1m 21s\tremaining: 1m 39s\n",
      "450:\tlearn: 0.1143357\ttotal: 1m 21s\tremaining: 1m 39s\n",
      "451:\tlearn: 0.1139724\ttotal: 1m 21s\tremaining: 1m 39s\n",
      "452:\tlearn: 0.1137950\ttotal: 1m 21s\tremaining: 1m 38s\n",
      "453:\tlearn: 0.1135785\ttotal: 1m 22s\tremaining: 1m 38s\n",
      "454:\tlearn: 0.1133307\ttotal: 1m 22s\tremaining: 1m 38s\n",
      "455:\tlearn: 0.1130840\ttotal: 1m 22s\tremaining: 1m 38s\n",
      "456:\tlearn: 0.1127833\ttotal: 1m 22s\tremaining: 1m 38s\n",
      "457:\tlearn: 0.1125849\ttotal: 1m 22s\tremaining: 1m 38s\n",
      "458:\tlearn: 0.1122351\ttotal: 1m 23s\tremaining: 1m 37s\n",
      "459:\tlearn: 0.1117629\ttotal: 1m 23s\tremaining: 1m 37s\n",
      "460:\tlearn: 0.1113588\ttotal: 1m 23s\tremaining: 1m 37s\n",
      "461:\tlearn: 0.1111685\ttotal: 1m 23s\tremaining: 1m 37s\n",
      "462:\tlearn: 0.1109526\ttotal: 1m 23s\tremaining: 1m 37s\n",
      "463:\tlearn: 0.1107959\ttotal: 1m 24s\tremaining: 1m 37s\n",
      "464:\tlearn: 0.1103373\ttotal: 1m 24s\tremaining: 1m 37s\n",
      "465:\tlearn: 0.1100765\ttotal: 1m 24s\tremaining: 1m 36s\n",
      "466:\tlearn: 0.1097407\ttotal: 1m 24s\tremaining: 1m 36s\n",
      "467:\tlearn: 0.1095217\ttotal: 1m 25s\tremaining: 1m 36s\n",
      "468:\tlearn: 0.1092897\ttotal: 1m 25s\tremaining: 1m 36s\n",
      "469:\tlearn: 0.1089662\ttotal: 1m 25s\tremaining: 1m 36s\n",
      "470:\tlearn: 0.1087557\ttotal: 1m 25s\tremaining: 1m 36s\n",
      "471:\tlearn: 0.1083946\ttotal: 1m 25s\tremaining: 1m 35s\n",
      "472:\tlearn: 0.1078816\ttotal: 1m 25s\tremaining: 1m 35s\n",
      "473:\tlearn: 0.1076229\ttotal: 1m 26s\tremaining: 1m 35s\n",
      "474:\tlearn: 0.1071894\ttotal: 1m 26s\tremaining: 1m 35s\n",
      "475:\tlearn: 0.1070162\ttotal: 1m 26s\tremaining: 1m 35s\n",
      "476:\tlearn: 0.1066948\ttotal: 1m 26s\tremaining: 1m 35s\n",
      "477:\tlearn: 0.1065205\ttotal: 1m 26s\tremaining: 1m 34s\n",
      "478:\tlearn: 0.1061190\ttotal: 1m 27s\tremaining: 1m 34s\n",
      "479:\tlearn: 0.1059772\ttotal: 1m 27s\tremaining: 1m 34s\n",
      "480:\tlearn: 0.1056966\ttotal: 1m 27s\tremaining: 1m 34s\n",
      "481:\tlearn: 0.1053023\ttotal: 1m 27s\tremaining: 1m 34s\n",
      "482:\tlearn: 0.1051383\ttotal: 1m 27s\tremaining: 1m 33s\n",
      "483:\tlearn: 0.1050022\ttotal: 1m 27s\tremaining: 1m 33s\n",
      "484:\tlearn: 0.1045514\ttotal: 1m 28s\tremaining: 1m 33s\n",
      "485:\tlearn: 0.1042428\ttotal: 1m 28s\tremaining: 1m 33s\n",
      "486:\tlearn: 0.1037528\ttotal: 1m 28s\tremaining: 1m 33s\n",
      "487:\tlearn: 0.1035029\ttotal: 1m 28s\tremaining: 1m 32s\n",
      "488:\tlearn: 0.1032319\ttotal: 1m 28s\tremaining: 1m 32s\n",
      "489:\tlearn: 0.1030036\ttotal: 1m 28s\tremaining: 1m 32s\n",
      "490:\tlearn: 0.1028224\ttotal: 1m 29s\tremaining: 1m 32s\n",
      "491:\tlearn: 0.1024125\ttotal: 1m 29s\tremaining: 1m 32s\n",
      "492:\tlearn: 0.1022522\ttotal: 1m 29s\tremaining: 1m 32s\n",
      "493:\tlearn: 0.1019775\ttotal: 1m 29s\tremaining: 1m 31s\n",
      "494:\tlearn: 0.1016147\ttotal: 1m 29s\tremaining: 1m 31s\n",
      "495:\tlearn: 0.1014453\ttotal: 1m 30s\tremaining: 1m 31s\n",
      "496:\tlearn: 0.1011832\ttotal: 1m 30s\tremaining: 1m 31s\n",
      "497:\tlearn: 0.1009614\ttotal: 1m 30s\tremaining: 1m 31s\n",
      "498:\tlearn: 0.1006979\ttotal: 1m 30s\tremaining: 1m 30s\n",
      "499:\tlearn: 0.1004605\ttotal: 1m 30s\tremaining: 1m 30s\n",
      "500:\tlearn: 0.1000269\ttotal: 1m 30s\tremaining: 1m 30s\n",
      "501:\tlearn: 0.0997308\ttotal: 1m 31s\tremaining: 1m 30s\n",
      "502:\tlearn: 0.0994537\ttotal: 1m 31s\tremaining: 1m 30s\n",
      "503:\tlearn: 0.0991995\ttotal: 1m 31s\tremaining: 1m 30s\n",
      "504:\tlearn: 0.0989332\ttotal: 1m 31s\tremaining: 1m 29s\n",
      "505:\tlearn: 0.0986540\ttotal: 1m 31s\tremaining: 1m 29s\n",
      "506:\tlearn: 0.0984750\ttotal: 1m 32s\tremaining: 1m 29s\n",
      "507:\tlearn: 0.0982510\ttotal: 1m 32s\tremaining: 1m 29s\n",
      "508:\tlearn: 0.0979547\ttotal: 1m 32s\tremaining: 1m 29s\n",
      "509:\tlearn: 0.0978054\ttotal: 1m 32s\tremaining: 1m 28s\n",
      "510:\tlearn: 0.0973545\ttotal: 1m 32s\tremaining: 1m 28s\n",
      "511:\tlearn: 0.0971435\ttotal: 1m 32s\tremaining: 1m 28s\n",
      "512:\tlearn: 0.0969258\ttotal: 1m 33s\tremaining: 1m 28s\n",
      "513:\tlearn: 0.0966393\ttotal: 1m 33s\tremaining: 1m 28s\n",
      "514:\tlearn: 0.0964474\ttotal: 1m 33s\tremaining: 1m 28s\n",
      "515:\tlearn: 0.0961120\ttotal: 1m 33s\tremaining: 1m 27s\n",
      "516:\tlearn: 0.0959340\ttotal: 1m 33s\tremaining: 1m 27s\n",
      "517:\tlearn: 0.0957582\ttotal: 1m 34s\tremaining: 1m 27s\n",
      "518:\tlearn: 0.0955759\ttotal: 1m 34s\tremaining: 1m 27s\n",
      "519:\tlearn: 0.0953876\ttotal: 1m 34s\tremaining: 1m 27s\n",
      "520:\tlearn: 0.0950931\ttotal: 1m 34s\tremaining: 1m 26s\n",
      "521:\tlearn: 0.0948911\ttotal: 1m 34s\tremaining: 1m 26s\n",
      "522:\tlearn: 0.0945828\ttotal: 1m 34s\tremaining: 1m 26s\n",
      "523:\tlearn: 0.0943421\ttotal: 1m 35s\tremaining: 1m 26s\n",
      "524:\tlearn: 0.0942283\ttotal: 1m 35s\tremaining: 1m 26s\n",
      "525:\tlearn: 0.0941198\ttotal: 1m 35s\tremaining: 1m 26s\n",
      "526:\tlearn: 0.0939386\ttotal: 1m 35s\tremaining: 1m 25s\n",
      "527:\tlearn: 0.0937629\ttotal: 1m 35s\tremaining: 1m 25s\n",
      "528:\tlearn: 0.0934685\ttotal: 1m 36s\tremaining: 1m 25s\n",
      "529:\tlearn: 0.0933118\ttotal: 1m 36s\tremaining: 1m 25s\n",
      "530:\tlearn: 0.0931075\ttotal: 1m 36s\tremaining: 1m 25s\n",
      "531:\tlearn: 0.0928412\ttotal: 1m 36s\tremaining: 1m 24s\n",
      "532:\tlearn: 0.0925671\ttotal: 1m 36s\tremaining: 1m 24s\n",
      "533:\tlearn: 0.0923247\ttotal: 1m 36s\tremaining: 1m 24s\n",
      "534:\tlearn: 0.0920786\ttotal: 1m 37s\tremaining: 1m 24s\n",
      "535:\tlearn: 0.0919014\ttotal: 1m 37s\tremaining: 1m 24s\n",
      "536:\tlearn: 0.0918215\ttotal: 1m 37s\tremaining: 1m 24s\n",
      "537:\tlearn: 0.0913765\ttotal: 1m 37s\tremaining: 1m 23s\n",
      "538:\tlearn: 0.0912001\ttotal: 1m 37s\tremaining: 1m 23s\n",
      "539:\tlearn: 0.0910543\ttotal: 1m 37s\tremaining: 1m 23s\n",
      "540:\tlearn: 0.0907902\ttotal: 1m 38s\tremaining: 1m 23s\n",
      "541:\tlearn: 0.0906474\ttotal: 1m 38s\tremaining: 1m 23s\n",
      "542:\tlearn: 0.0904630\ttotal: 1m 38s\tremaining: 1m 22s\n",
      "543:\tlearn: 0.0900194\ttotal: 1m 38s\tremaining: 1m 22s\n",
      "544:\tlearn: 0.0898068\ttotal: 1m 38s\tremaining: 1m 22s\n",
      "545:\tlearn: 0.0895506\ttotal: 1m 39s\tremaining: 1m 22s\n",
      "546:\tlearn: 0.0892211\ttotal: 1m 39s\tremaining: 1m 22s\n",
      "547:\tlearn: 0.0887516\ttotal: 1m 39s\tremaining: 1m 22s\n",
      "548:\tlearn: 0.0886281\ttotal: 1m 39s\tremaining: 1m 21s\n",
      "549:\tlearn: 0.0884886\ttotal: 1m 39s\tremaining: 1m 21s\n",
      "550:\tlearn: 0.0882403\ttotal: 1m 39s\tremaining: 1m 21s\n",
      "551:\tlearn: 0.0879310\ttotal: 1m 40s\tremaining: 1m 21s\n",
      "552:\tlearn: 0.0876968\ttotal: 1m 40s\tremaining: 1m 21s\n",
      "553:\tlearn: 0.0875553\ttotal: 1m 40s\tremaining: 1m 20s\n",
      "554:\tlearn: 0.0873914\ttotal: 1m 40s\tremaining: 1m 20s\n",
      "555:\tlearn: 0.0870663\ttotal: 1m 40s\tremaining: 1m 20s\n",
      "556:\tlearn: 0.0867902\ttotal: 1m 41s\tremaining: 1m 20s\n",
      "557:\tlearn: 0.0865034\ttotal: 1m 41s\tremaining: 1m 20s\n",
      "558:\tlearn: 0.0862486\ttotal: 1m 41s\tremaining: 1m 19s\n",
      "559:\tlearn: 0.0860923\ttotal: 1m 41s\tremaining: 1m 19s\n",
      "560:\tlearn: 0.0856911\ttotal: 1m 41s\tremaining: 1m 19s\n",
      "561:\tlearn: 0.0854736\ttotal: 1m 41s\tremaining: 1m 19s\n",
      "562:\tlearn: 0.0852897\ttotal: 1m 42s\tremaining: 1m 19s\n",
      "563:\tlearn: 0.0850275\ttotal: 1m 42s\tremaining: 1m 19s\n",
      "564:\tlearn: 0.0847366\ttotal: 1m 42s\tremaining: 1m 18s\n",
      "565:\tlearn: 0.0843616\ttotal: 1m 42s\tremaining: 1m 18s\n",
      "566:\tlearn: 0.0839505\ttotal: 1m 42s\tremaining: 1m 18s\n",
      "567:\tlearn: 0.0838187\ttotal: 1m 43s\tremaining: 1m 18s\n",
      "568:\tlearn: 0.0836264\ttotal: 1m 43s\tremaining: 1m 18s\n",
      "569:\tlearn: 0.0833994\ttotal: 1m 43s\tremaining: 1m 18s\n",
      "570:\tlearn: 0.0831788\ttotal: 1m 43s\tremaining: 1m 17s\n",
      "571:\tlearn: 0.0830064\ttotal: 1m 43s\tremaining: 1m 17s\n",
      "572:\tlearn: 0.0826726\ttotal: 1m 43s\tremaining: 1m 17s\n",
      "573:\tlearn: 0.0825522\ttotal: 1m 44s\tremaining: 1m 17s\n",
      "574:\tlearn: 0.0822424\ttotal: 1m 44s\tremaining: 1m 17s\n",
      "575:\tlearn: 0.0819706\ttotal: 1m 44s\tremaining: 1m 16s\n",
      "576:\tlearn: 0.0818368\ttotal: 1m 44s\tremaining: 1m 16s\n",
      "577:\tlearn: 0.0816539\ttotal: 1m 44s\tremaining: 1m 16s\n",
      "578:\tlearn: 0.0814901\ttotal: 1m 45s\tremaining: 1m 16s\n",
      "579:\tlearn: 0.0811309\ttotal: 1m 45s\tremaining: 1m 16s\n",
      "580:\tlearn: 0.0808654\ttotal: 1m 45s\tremaining: 1m 15s\n",
      "581:\tlearn: 0.0806899\ttotal: 1m 45s\tremaining: 1m 15s\n",
      "582:\tlearn: 0.0804536\ttotal: 1m 45s\tremaining: 1m 15s\n",
      "583:\tlearn: 0.0802511\ttotal: 1m 45s\tremaining: 1m 15s\n",
      "584:\tlearn: 0.0800037\ttotal: 1m 46s\tremaining: 1m 15s\n",
      "585:\tlearn: 0.0799106\ttotal: 1m 46s\tremaining: 1m 15s\n",
      "586:\tlearn: 0.0796770\ttotal: 1m 46s\tremaining: 1m 14s\n",
      "587:\tlearn: 0.0794950\ttotal: 1m 46s\tremaining: 1m 14s\n",
      "588:\tlearn: 0.0793772\ttotal: 1m 46s\tremaining: 1m 14s\n",
      "589:\tlearn: 0.0791856\ttotal: 1m 47s\tremaining: 1m 14s\n",
      "590:\tlearn: 0.0788363\ttotal: 1m 47s\tremaining: 1m 14s\n",
      "591:\tlearn: 0.0784746\ttotal: 1m 47s\tremaining: 1m 13s\n",
      "592:\tlearn: 0.0783482\ttotal: 1m 47s\tremaining: 1m 13s\n",
      "593:\tlearn: 0.0780906\ttotal: 1m 47s\tremaining: 1m 13s\n",
      "594:\tlearn: 0.0777135\ttotal: 1m 47s\tremaining: 1m 13s\n",
      "595:\tlearn: 0.0775789\ttotal: 1m 48s\tremaining: 1m 13s\n",
      "596:\tlearn: 0.0772647\ttotal: 1m 48s\tremaining: 1m 13s\n",
      "597:\tlearn: 0.0771797\ttotal: 1m 48s\tremaining: 1m 12s\n",
      "598:\tlearn: 0.0770637\ttotal: 1m 48s\tremaining: 1m 12s\n",
      "599:\tlearn: 0.0768779\ttotal: 1m 48s\tremaining: 1m 12s\n",
      "600:\tlearn: 0.0766903\ttotal: 1m 48s\tremaining: 1m 12s\n",
      "601:\tlearn: 0.0764140\ttotal: 1m 49s\tremaining: 1m 12s\n",
      "602:\tlearn: 0.0762891\ttotal: 1m 49s\tremaining: 1m 11s\n",
      "603:\tlearn: 0.0761383\ttotal: 1m 49s\tremaining: 1m 11s\n",
      "604:\tlearn: 0.0756947\ttotal: 1m 49s\tremaining: 1m 11s\n",
      "605:\tlearn: 0.0755409\ttotal: 1m 49s\tremaining: 1m 11s\n",
      "606:\tlearn: 0.0754030\ttotal: 1m 50s\tremaining: 1m 11s\n",
      "607:\tlearn: 0.0752135\ttotal: 1m 50s\tremaining: 1m 11s\n",
      "608:\tlearn: 0.0750517\ttotal: 1m 50s\tremaining: 1m 10s\n",
      "609:\tlearn: 0.0748761\ttotal: 1m 50s\tremaining: 1m 10s\n",
      "610:\tlearn: 0.0747616\ttotal: 1m 50s\tremaining: 1m 10s\n",
      "611:\tlearn: 0.0746656\ttotal: 1m 50s\tremaining: 1m 10s\n",
      "612:\tlearn: 0.0744614\ttotal: 1m 51s\tremaining: 1m 10s\n",
      "613:\tlearn: 0.0743536\ttotal: 1m 51s\tremaining: 1m 9s\n",
      "614:\tlearn: 0.0741642\ttotal: 1m 51s\tremaining: 1m 9s\n",
      "615:\tlearn: 0.0739625\ttotal: 1m 51s\tremaining: 1m 9s\n",
      "616:\tlearn: 0.0737979\ttotal: 1m 51s\tremaining: 1m 9s\n",
      "617:\tlearn: 0.0736783\ttotal: 1m 52s\tremaining: 1m 9s\n",
      "618:\tlearn: 0.0734765\ttotal: 1m 52s\tremaining: 1m 9s\n",
      "619:\tlearn: 0.0732288\ttotal: 1m 52s\tremaining: 1m 8s\n",
      "620:\tlearn: 0.0731223\ttotal: 1m 52s\tremaining: 1m 8s\n",
      "621:\tlearn: 0.0730072\ttotal: 1m 52s\tremaining: 1m 8s\n",
      "622:\tlearn: 0.0726927\ttotal: 1m 52s\tremaining: 1m 8s\n",
      "623:\tlearn: 0.0725009\ttotal: 1m 53s\tremaining: 1m 8s\n",
      "624:\tlearn: 0.0723673\ttotal: 1m 53s\tremaining: 1m 7s\n",
      "625:\tlearn: 0.0721862\ttotal: 1m 53s\tremaining: 1m 7s\n",
      "626:\tlearn: 0.0720481\ttotal: 1m 53s\tremaining: 1m 7s\n",
      "627:\tlearn: 0.0718548\ttotal: 1m 53s\tremaining: 1m 7s\n",
      "628:\tlearn: 0.0717528\ttotal: 1m 53s\tremaining: 1m 7s\n",
      "629:\tlearn: 0.0716823\ttotal: 1m 54s\tremaining: 1m 7s\n",
      "630:\tlearn: 0.0714743\ttotal: 1m 54s\tremaining: 1m 6s\n",
      "631:\tlearn: 0.0712023\ttotal: 1m 54s\tremaining: 1m 6s\n",
      "632:\tlearn: 0.0710842\ttotal: 1m 54s\tremaining: 1m 6s\n",
      "633:\tlearn: 0.0709443\ttotal: 1m 54s\tremaining: 1m 6s\n",
      "634:\tlearn: 0.0708011\ttotal: 1m 55s\tremaining: 1m 6s\n",
      "635:\tlearn: 0.0706710\ttotal: 1m 55s\tremaining: 1m 6s\n",
      "636:\tlearn: 0.0704099\ttotal: 1m 55s\tremaining: 1m 5s\n",
      "637:\tlearn: 0.0702771\ttotal: 1m 55s\tremaining: 1m 5s\n",
      "638:\tlearn: 0.0701971\ttotal: 1m 56s\tremaining: 1m 5s\n",
      "639:\tlearn: 0.0697961\ttotal: 1m 56s\tremaining: 1m 5s\n",
      "640:\tlearn: 0.0696031\ttotal: 1m 56s\tremaining: 1m 5s\n",
      "641:\tlearn: 0.0694691\ttotal: 1m 56s\tremaining: 1m 5s\n",
      "642:\tlearn: 0.0692927\ttotal: 1m 56s\tremaining: 1m 4s\n",
      "643:\tlearn: 0.0690610\ttotal: 1m 57s\tremaining: 1m 4s\n",
      "644:\tlearn: 0.0689247\ttotal: 1m 57s\tremaining: 1m 4s\n",
      "645:\tlearn: 0.0686915\ttotal: 1m 57s\tremaining: 1m 4s\n",
      "646:\tlearn: 0.0684916\ttotal: 1m 57s\tremaining: 1m 4s\n",
      "647:\tlearn: 0.0681453\ttotal: 1m 57s\tremaining: 1m 3s\n",
      "648:\tlearn: 0.0680588\ttotal: 1m 57s\tremaining: 1m 3s\n",
      "649:\tlearn: 0.0679856\ttotal: 1m 58s\tremaining: 1m 3s\n",
      "650:\tlearn: 0.0678705\ttotal: 1m 58s\tremaining: 1m 3s\n",
      "651:\tlearn: 0.0677463\ttotal: 1m 58s\tremaining: 1m 3s\n",
      "652:\tlearn: 0.0676141\ttotal: 1m 58s\tremaining: 1m 3s\n",
      "653:\tlearn: 0.0673526\ttotal: 1m 58s\tremaining: 1m 2s\n",
      "654:\tlearn: 0.0672130\ttotal: 1m 59s\tremaining: 1m 2s\n",
      "655:\tlearn: 0.0669124\ttotal: 1m 59s\tremaining: 1m 2s\n",
      "656:\tlearn: 0.0667419\ttotal: 1m 59s\tremaining: 1m 2s\n",
      "657:\tlearn: 0.0665013\ttotal: 1m 59s\tremaining: 1m 2s\n",
      "658:\tlearn: 0.0663772\ttotal: 1m 59s\tremaining: 1m 1s\n",
      "659:\tlearn: 0.0662026\ttotal: 1m 59s\tremaining: 1m 1s\n",
      "660:\tlearn: 0.0661060\ttotal: 2m\tremaining: 1m 1s\n",
      "661:\tlearn: 0.0659225\ttotal: 2m\tremaining: 1m 1s\n",
      "662:\tlearn: 0.0658193\ttotal: 2m\tremaining: 1m 1s\n",
      "663:\tlearn: 0.0656407\ttotal: 2m\tremaining: 1m 1s\n",
      "664:\tlearn: 0.0653971\ttotal: 2m\tremaining: 1m\n",
      "665:\tlearn: 0.0652942\ttotal: 2m\tremaining: 1m\n",
      "666:\tlearn: 0.0651993\ttotal: 2m 1s\tremaining: 1m\n",
      "667:\tlearn: 0.0651081\ttotal: 2m 1s\tremaining: 1m\n",
      "668:\tlearn: 0.0650098\ttotal: 2m 1s\tremaining: 1m\n",
      "669:\tlearn: 0.0646885\ttotal: 2m 1s\tremaining: 59.9s\n",
      "670:\tlearn: 0.0645283\ttotal: 2m 1s\tremaining: 59.8s\n",
      "671:\tlearn: 0.0644354\ttotal: 2m 2s\tremaining: 59.6s\n",
      "672:\tlearn: 0.0642987\ttotal: 2m 2s\tremaining: 59.4s\n",
      "673:\tlearn: 0.0641793\ttotal: 2m 2s\tremaining: 59.2s\n",
      "674:\tlearn: 0.0640892\ttotal: 2m 2s\tremaining: 59s\n",
      "675:\tlearn: 0.0638912\ttotal: 2m 2s\tremaining: 58.8s\n",
      "676:\tlearn: 0.0637880\ttotal: 2m 2s\tremaining: 58.7s\n",
      "677:\tlearn: 0.0636971\ttotal: 2m 3s\tremaining: 58.5s\n",
      "678:\tlearn: 0.0636113\ttotal: 2m 3s\tremaining: 58.3s\n",
      "679:\tlearn: 0.0634219\ttotal: 2m 3s\tremaining: 58.1s\n",
      "680:\tlearn: 0.0632420\ttotal: 2m 3s\tremaining: 57.9s\n",
      "681:\tlearn: 0.0630373\ttotal: 2m 3s\tremaining: 57.7s\n",
      "682:\tlearn: 0.0629121\ttotal: 2m 4s\tremaining: 57.6s\n",
      "683:\tlearn: 0.0627908\ttotal: 2m 4s\tremaining: 57.4s\n",
      "684:\tlearn: 0.0626538\ttotal: 2m 4s\tremaining: 57.2s\n",
      "685:\tlearn: 0.0625099\ttotal: 2m 4s\tremaining: 57s\n",
      "686:\tlearn: 0.0623682\ttotal: 2m 4s\tremaining: 56.8s\n",
      "687:\tlearn: 0.0622317\ttotal: 2m 4s\tremaining: 56.6s\n",
      "688:\tlearn: 0.0621403\ttotal: 2m 5s\tremaining: 56.5s\n",
      "689:\tlearn: 0.0620445\ttotal: 2m 5s\tremaining: 56.3s\n",
      "690:\tlearn: 0.0619273\ttotal: 2m 5s\tremaining: 56.1s\n",
      "691:\tlearn: 0.0617384\ttotal: 2m 5s\tremaining: 55.9s\n",
      "692:\tlearn: 0.0615989\ttotal: 2m 5s\tremaining: 55.7s\n",
      "693:\tlearn: 0.0614918\ttotal: 2m 5s\tremaining: 55.5s\n",
      "694:\tlearn: 0.0613724\ttotal: 2m 6s\tremaining: 55.4s\n",
      "695:\tlearn: 0.0611735\ttotal: 2m 6s\tremaining: 55.2s\n",
      "696:\tlearn: 0.0610613\ttotal: 2m 6s\tremaining: 55s\n",
      "697:\tlearn: 0.0609783\ttotal: 2m 6s\tremaining: 54.8s\n",
      "698:\tlearn: 0.0609036\ttotal: 2m 6s\tremaining: 54.6s\n",
      "699:\tlearn: 0.0607208\ttotal: 2m 7s\tremaining: 54.4s\n",
      "700:\tlearn: 0.0605455\ttotal: 2m 7s\tremaining: 54.3s\n",
      "701:\tlearn: 0.0604461\ttotal: 2m 7s\tremaining: 54.1s\n",
      "702:\tlearn: 0.0603560\ttotal: 2m 7s\tremaining: 53.9s\n",
      "703:\tlearn: 0.0601495\ttotal: 2m 7s\tremaining: 53.7s\n",
      "704:\tlearn: 0.0599125\ttotal: 2m 7s\tremaining: 53.5s\n",
      "705:\tlearn: 0.0597770\ttotal: 2m 8s\tremaining: 53.4s\n",
      "706:\tlearn: 0.0596803\ttotal: 2m 8s\tremaining: 53.2s\n",
      "707:\tlearn: 0.0595617\ttotal: 2m 8s\tremaining: 53s\n",
      "708:\tlearn: 0.0593279\ttotal: 2m 8s\tremaining: 52.8s\n",
      "709:\tlearn: 0.0592224\ttotal: 2m 8s\tremaining: 52.6s\n",
      "710:\tlearn: 0.0591129\ttotal: 2m 9s\tremaining: 52.4s\n",
      "711:\tlearn: 0.0588139\ttotal: 2m 9s\tremaining: 52.3s\n",
      "712:\tlearn: 0.0586813\ttotal: 2m 9s\tremaining: 52.1s\n",
      "713:\tlearn: 0.0585777\ttotal: 2m 9s\tremaining: 51.9s\n",
      "714:\tlearn: 0.0584559\ttotal: 2m 9s\tremaining: 51.7s\n",
      "715:\tlearn: 0.0581603\ttotal: 2m 9s\tremaining: 51.5s\n",
      "716:\tlearn: 0.0579973\ttotal: 2m 10s\tremaining: 51.4s\n",
      "717:\tlearn: 0.0578486\ttotal: 2m 10s\tremaining: 51.2s\n",
      "718:\tlearn: 0.0577169\ttotal: 2m 10s\tremaining: 51s\n",
      "719:\tlearn: 0.0576249\ttotal: 2m 10s\tremaining: 50.8s\n",
      "720:\tlearn: 0.0575034\ttotal: 2m 10s\tremaining: 50.6s\n",
      "721:\tlearn: 0.0573467\ttotal: 2m 11s\tremaining: 50.4s\n",
      "722:\tlearn: 0.0572372\ttotal: 2m 11s\tremaining: 50.3s\n",
      "723:\tlearn: 0.0569727\ttotal: 2m 11s\tremaining: 50.1s\n",
      "724:\tlearn: 0.0567956\ttotal: 2m 11s\tremaining: 49.9s\n",
      "725:\tlearn: 0.0566584\ttotal: 2m 11s\tremaining: 49.7s\n",
      "726:\tlearn: 0.0565116\ttotal: 2m 11s\tremaining: 49.5s\n",
      "727:\tlearn: 0.0562064\ttotal: 2m 12s\tremaining: 49.4s\n",
      "728:\tlearn: 0.0561273\ttotal: 2m 12s\tremaining: 49.2s\n",
      "729:\tlearn: 0.0559788\ttotal: 2m 12s\tremaining: 49s\n",
      "730:\tlearn: 0.0558237\ttotal: 2m 12s\tremaining: 48.8s\n",
      "731:\tlearn: 0.0555641\ttotal: 2m 12s\tremaining: 48.6s\n",
      "732:\tlearn: 0.0554960\ttotal: 2m 12s\tremaining: 48.4s\n",
      "733:\tlearn: 0.0554156\ttotal: 2m 13s\tremaining: 48.3s\n",
      "734:\tlearn: 0.0552140\ttotal: 2m 13s\tremaining: 48.1s\n",
      "735:\tlearn: 0.0550984\ttotal: 2m 13s\tremaining: 47.9s\n",
      "736:\tlearn: 0.0549365\ttotal: 2m 13s\tremaining: 47.7s\n",
      "737:\tlearn: 0.0548749\ttotal: 2m 13s\tremaining: 47.5s\n",
      "738:\tlearn: 0.0547965\ttotal: 2m 14s\tremaining: 47.3s\n",
      "739:\tlearn: 0.0546194\ttotal: 2m 14s\tremaining: 47.2s\n",
      "740:\tlearn: 0.0545513\ttotal: 2m 14s\tremaining: 47s\n",
      "741:\tlearn: 0.0544513\ttotal: 2m 14s\tremaining: 46.8s\n",
      "742:\tlearn: 0.0542995\ttotal: 2m 14s\tremaining: 46.6s\n",
      "743:\tlearn: 0.0541153\ttotal: 2m 14s\tremaining: 46.4s\n",
      "744:\tlearn: 0.0539773\ttotal: 2m 15s\tremaining: 46.3s\n",
      "745:\tlearn: 0.0538847\ttotal: 2m 15s\tremaining: 46.1s\n",
      "746:\tlearn: 0.0538029\ttotal: 2m 15s\tremaining: 45.9s\n",
      "747:\tlearn: 0.0537321\ttotal: 2m 15s\tremaining: 45.7s\n",
      "748:\tlearn: 0.0535686\ttotal: 2m 15s\tremaining: 45.5s\n",
      "749:\tlearn: 0.0534043\ttotal: 2m 16s\tremaining: 45.3s\n",
      "750:\tlearn: 0.0532297\ttotal: 2m 16s\tremaining: 45.2s\n",
      "751:\tlearn: 0.0531725\ttotal: 2m 16s\tremaining: 45s\n",
      "752:\tlearn: 0.0530881\ttotal: 2m 16s\tremaining: 44.8s\n",
      "753:\tlearn: 0.0529309\ttotal: 2m 16s\tremaining: 44.6s\n",
      "754:\tlearn: 0.0527697\ttotal: 2m 16s\tremaining: 44.4s\n",
      "755:\tlearn: 0.0526703\ttotal: 2m 17s\tremaining: 44.3s\n",
      "756:\tlearn: 0.0525781\ttotal: 2m 17s\tremaining: 44.1s\n",
      "757:\tlearn: 0.0524966\ttotal: 2m 17s\tremaining: 43.9s\n",
      "758:\tlearn: 0.0524113\ttotal: 2m 17s\tremaining: 43.7s\n",
      "759:\tlearn: 0.0523143\ttotal: 2m 17s\tremaining: 43.5s\n",
      "760:\tlearn: 0.0522071\ttotal: 2m 17s\tremaining: 43.3s\n",
      "761:\tlearn: 0.0520771\ttotal: 2m 18s\tremaining: 43.2s\n",
      "762:\tlearn: 0.0519324\ttotal: 2m 18s\tremaining: 43s\n",
      "763:\tlearn: 0.0518075\ttotal: 2m 18s\tremaining: 42.8s\n",
      "764:\tlearn: 0.0517225\ttotal: 2m 18s\tremaining: 42.6s\n",
      "765:\tlearn: 0.0514718\ttotal: 2m 18s\tremaining: 42.4s\n",
      "766:\tlearn: 0.0513952\ttotal: 2m 19s\tremaining: 42.3s\n",
      "767:\tlearn: 0.0512827\ttotal: 2m 19s\tremaining: 42.1s\n",
      "768:\tlearn: 0.0512035\ttotal: 2m 19s\tremaining: 41.9s\n",
      "769:\tlearn: 0.0510980\ttotal: 2m 19s\tremaining: 41.7s\n",
      "770:\tlearn: 0.0510445\ttotal: 2m 19s\tremaining: 41.5s\n",
      "771:\tlearn: 0.0509810\ttotal: 2m 19s\tremaining: 41.3s\n",
      "772:\tlearn: 0.0507293\ttotal: 2m 20s\tremaining: 41.2s\n",
      "773:\tlearn: 0.0506174\ttotal: 2m 20s\tremaining: 41s\n",
      "774:\tlearn: 0.0505589\ttotal: 2m 20s\tremaining: 40.8s\n",
      "775:\tlearn: 0.0504673\ttotal: 2m 20s\tremaining: 40.6s\n",
      "776:\tlearn: 0.0503264\ttotal: 2m 20s\tremaining: 40.4s\n",
      "777:\tlearn: 0.0502109\ttotal: 2m 21s\tremaining: 40.3s\n",
      "778:\tlearn: 0.0501290\ttotal: 2m 21s\tremaining: 40.1s\n",
      "779:\tlearn: 0.0499756\ttotal: 2m 21s\tremaining: 39.9s\n",
      "780:\tlearn: 0.0498472\ttotal: 2m 21s\tremaining: 39.7s\n",
      "781:\tlearn: 0.0495711\ttotal: 2m 21s\tremaining: 39.5s\n",
      "782:\tlearn: 0.0494656\ttotal: 2m 21s\tremaining: 39.3s\n",
      "783:\tlearn: 0.0493741\ttotal: 2m 22s\tremaining: 39.2s\n",
      "784:\tlearn: 0.0492998\ttotal: 2m 22s\tremaining: 39s\n",
      "785:\tlearn: 0.0492008\ttotal: 2m 22s\tremaining: 38.8s\n",
      "786:\tlearn: 0.0490160\ttotal: 2m 22s\tremaining: 38.6s\n",
      "787:\tlearn: 0.0488882\ttotal: 2m 22s\tremaining: 38.4s\n",
      "788:\tlearn: 0.0487593\ttotal: 2m 23s\tremaining: 38.2s\n",
      "789:\tlearn: 0.0485602\ttotal: 2m 23s\tremaining: 38.1s\n",
      "790:\tlearn: 0.0484765\ttotal: 2m 23s\tremaining: 37.9s\n",
      "791:\tlearn: 0.0483371\ttotal: 2m 23s\tremaining: 37.7s\n",
      "792:\tlearn: 0.0480426\ttotal: 2m 23s\tremaining: 37.5s\n",
      "793:\tlearn: 0.0478849\ttotal: 2m 23s\tremaining: 37.3s\n",
      "794:\tlearn: 0.0477531\ttotal: 2m 24s\tremaining: 37.2s\n",
      "795:\tlearn: 0.0475921\ttotal: 2m 24s\tremaining: 37s\n",
      "796:\tlearn: 0.0474359\ttotal: 2m 24s\tremaining: 36.8s\n",
      "797:\tlearn: 0.0473245\ttotal: 2m 24s\tremaining: 36.6s\n",
      "798:\tlearn: 0.0472456\ttotal: 2m 24s\tremaining: 36.4s\n",
      "799:\tlearn: 0.0470751\ttotal: 2m 25s\tremaining: 36.3s\n",
      "800:\tlearn: 0.0469514\ttotal: 2m 25s\tremaining: 36.1s\n",
      "801:\tlearn: 0.0468754\ttotal: 2m 25s\tremaining: 35.9s\n",
      "802:\tlearn: 0.0467499\ttotal: 2m 25s\tremaining: 35.7s\n",
      "803:\tlearn: 0.0466787\ttotal: 2m 25s\tremaining: 35.5s\n",
      "804:\tlearn: 0.0463984\ttotal: 2m 25s\tremaining: 35.3s\n",
      "805:\tlearn: 0.0463100\ttotal: 2m 26s\tremaining: 35.2s\n",
      "806:\tlearn: 0.0460228\ttotal: 2m 26s\tremaining: 35s\n",
      "807:\tlearn: 0.0458564\ttotal: 2m 26s\tremaining: 34.8s\n",
      "808:\tlearn: 0.0456795\ttotal: 2m 26s\tremaining: 34.6s\n",
      "809:\tlearn: 0.0456120\ttotal: 2m 26s\tremaining: 34.5s\n",
      "810:\tlearn: 0.0455402\ttotal: 2m 27s\tremaining: 34.3s\n",
      "811:\tlearn: 0.0453836\ttotal: 2m 27s\tremaining: 34.1s\n",
      "812:\tlearn: 0.0452770\ttotal: 2m 27s\tremaining: 34s\n",
      "813:\tlearn: 0.0452003\ttotal: 2m 27s\tremaining: 33.8s\n",
      "814:\tlearn: 0.0449513\ttotal: 2m 28s\tremaining: 33.6s\n",
      "815:\tlearn: 0.0447743\ttotal: 2m 28s\tremaining: 33.4s\n",
      "816:\tlearn: 0.0446233\ttotal: 2m 28s\tremaining: 33.2s\n",
      "817:\tlearn: 0.0445510\ttotal: 2m 28s\tremaining: 33.1s\n",
      "818:\tlearn: 0.0444987\ttotal: 2m 28s\tremaining: 32.9s\n",
      "819:\tlearn: 0.0443449\ttotal: 2m 28s\tremaining: 32.7s\n",
      "820:\tlearn: 0.0442356\ttotal: 2m 29s\tremaining: 32.5s\n",
      "821:\tlearn: 0.0440817\ttotal: 2m 29s\tremaining: 32.3s\n",
      "822:\tlearn: 0.0439611\ttotal: 2m 29s\tremaining: 32.1s\n",
      "823:\tlearn: 0.0438790\ttotal: 2m 29s\tremaining: 32s\n",
      "824:\tlearn: 0.0437661\ttotal: 2m 29s\tremaining: 31.8s\n",
      "825:\tlearn: 0.0436198\ttotal: 2m 30s\tremaining: 31.6s\n",
      "826:\tlearn: 0.0435349\ttotal: 2m 30s\tremaining: 31.4s\n",
      "827:\tlearn: 0.0434106\ttotal: 2m 30s\tremaining: 31.2s\n",
      "828:\tlearn: 0.0433102\ttotal: 2m 30s\tremaining: 31.1s\n",
      "829:\tlearn: 0.0432419\ttotal: 2m 30s\tremaining: 30.9s\n",
      "830:\tlearn: 0.0431756\ttotal: 2m 30s\tremaining: 30.7s\n",
      "831:\tlearn: 0.0430285\ttotal: 2m 31s\tremaining: 30.5s\n",
      "832:\tlearn: 0.0429671\ttotal: 2m 31s\tremaining: 30.3s\n",
      "833:\tlearn: 0.0428515\ttotal: 2m 31s\tremaining: 30.1s\n",
      "834:\tlearn: 0.0427372\ttotal: 2m 31s\tremaining: 30s\n",
      "835:\tlearn: 0.0425859\ttotal: 2m 31s\tremaining: 29.8s\n",
      "836:\tlearn: 0.0424972\ttotal: 2m 31s\tremaining: 29.6s\n",
      "837:\tlearn: 0.0424245\ttotal: 2m 32s\tremaining: 29.4s\n",
      "838:\tlearn: 0.0422914\ttotal: 2m 32s\tremaining: 29.2s\n",
      "839:\tlearn: 0.0422223\ttotal: 2m 32s\tremaining: 29s\n",
      "840:\tlearn: 0.0421632\ttotal: 2m 32s\tremaining: 28.9s\n",
      "841:\tlearn: 0.0419514\ttotal: 2m 32s\tremaining: 28.7s\n",
      "842:\tlearn: 0.0418085\ttotal: 2m 33s\tremaining: 28.5s\n",
      "843:\tlearn: 0.0417048\ttotal: 2m 33s\tremaining: 28.3s\n",
      "844:\tlearn: 0.0416258\ttotal: 2m 33s\tremaining: 28.1s\n",
      "845:\tlearn: 0.0415688\ttotal: 2m 33s\tremaining: 28s\n",
      "846:\tlearn: 0.0414987\ttotal: 2m 33s\tremaining: 27.8s\n",
      "847:\tlearn: 0.0414303\ttotal: 2m 33s\tremaining: 27.6s\n",
      "848:\tlearn: 0.0413456\ttotal: 2m 34s\tremaining: 27.4s\n",
      "849:\tlearn: 0.0412914\ttotal: 2m 34s\tremaining: 27.2s\n",
      "850:\tlearn: 0.0412289\ttotal: 2m 34s\tremaining: 27s\n",
      "851:\tlearn: 0.0411350\ttotal: 2m 34s\tremaining: 26.9s\n",
      "852:\tlearn: 0.0410766\ttotal: 2m 34s\tremaining: 26.7s\n",
      "853:\tlearn: 0.0409584\ttotal: 2m 35s\tremaining: 26.5s\n",
      "854:\tlearn: 0.0408356\ttotal: 2m 35s\tremaining: 26.3s\n",
      "855:\tlearn: 0.0407350\ttotal: 2m 35s\tremaining: 26.1s\n",
      "856:\tlearn: 0.0406926\ttotal: 2m 35s\tremaining: 26s\n",
      "857:\tlearn: 0.0405545\ttotal: 2m 35s\tremaining: 25.8s\n",
      "858:\tlearn: 0.0404882\ttotal: 2m 35s\tremaining: 25.6s\n",
      "859:\tlearn: 0.0404164\ttotal: 2m 36s\tremaining: 25.4s\n",
      "860:\tlearn: 0.0403268\ttotal: 2m 36s\tremaining: 25.2s\n",
      "861:\tlearn: 0.0401901\ttotal: 2m 36s\tremaining: 25s\n",
      "862:\tlearn: 0.0400694\ttotal: 2m 36s\tremaining: 24.9s\n",
      "863:\tlearn: 0.0398667\ttotal: 2m 36s\tremaining: 24.7s\n",
      "864:\tlearn: 0.0397560\ttotal: 2m 36s\tremaining: 24.5s\n",
      "865:\tlearn: 0.0396401\ttotal: 2m 37s\tremaining: 24.3s\n",
      "866:\tlearn: 0.0395847\ttotal: 2m 37s\tremaining: 24.1s\n",
      "867:\tlearn: 0.0395387\ttotal: 2m 37s\tremaining: 24s\n",
      "868:\tlearn: 0.0394633\ttotal: 2m 37s\tremaining: 23.8s\n",
      "869:\tlearn: 0.0393821\ttotal: 2m 37s\tremaining: 23.6s\n",
      "870:\tlearn: 0.0392774\ttotal: 2m 38s\tremaining: 23.4s\n",
      "871:\tlearn: 0.0391284\ttotal: 2m 38s\tremaining: 23.2s\n",
      "872:\tlearn: 0.0390412\ttotal: 2m 38s\tremaining: 23s\n",
      "873:\tlearn: 0.0388989\ttotal: 2m 38s\tremaining: 22.9s\n",
      "874:\tlearn: 0.0388481\ttotal: 2m 38s\tremaining: 22.7s\n",
      "875:\tlearn: 0.0388019\ttotal: 2m 38s\tremaining: 22.5s\n",
      "876:\tlearn: 0.0387588\ttotal: 2m 39s\tremaining: 22.3s\n",
      "877:\tlearn: 0.0386899\ttotal: 2m 39s\tremaining: 22.1s\n",
      "878:\tlearn: 0.0385740\ttotal: 2m 39s\tremaining: 21.9s\n",
      "879:\tlearn: 0.0385091\ttotal: 2m 39s\tremaining: 21.8s\n",
      "880:\tlearn: 0.0384581\ttotal: 2m 39s\tremaining: 21.6s\n",
      "881:\tlearn: 0.0384086\ttotal: 2m 39s\tremaining: 21.4s\n",
      "882:\tlearn: 0.0383060\ttotal: 2m 40s\tremaining: 21.2s\n",
      "883:\tlearn: 0.0381589\ttotal: 2m 40s\tremaining: 21s\n",
      "884:\tlearn: 0.0380688\ttotal: 2m 40s\tremaining: 20.9s\n",
      "885:\tlearn: 0.0379698\ttotal: 2m 40s\tremaining: 20.7s\n",
      "886:\tlearn: 0.0379188\ttotal: 2m 40s\tremaining: 20.5s\n",
      "887:\tlearn: 0.0378519\ttotal: 2m 41s\tremaining: 20.3s\n",
      "888:\tlearn: 0.0377896\ttotal: 2m 41s\tremaining: 20.1s\n",
      "889:\tlearn: 0.0376686\ttotal: 2m 41s\tremaining: 20s\n",
      "890:\tlearn: 0.0376156\ttotal: 2m 41s\tremaining: 19.8s\n",
      "891:\tlearn: 0.0375382\ttotal: 2m 41s\tremaining: 19.6s\n",
      "892:\tlearn: 0.0374027\ttotal: 2m 42s\tremaining: 19.4s\n",
      "893:\tlearn: 0.0373095\ttotal: 2m 42s\tremaining: 19.2s\n",
      "894:\tlearn: 0.0372230\ttotal: 2m 42s\tremaining: 19s\n",
      "895:\tlearn: 0.0371458\ttotal: 2m 42s\tremaining: 18.9s\n",
      "896:\tlearn: 0.0370414\ttotal: 2m 42s\tremaining: 18.7s\n",
      "897:\tlearn: 0.0369747\ttotal: 2m 42s\tremaining: 18.5s\n",
      "898:\tlearn: 0.0368024\ttotal: 2m 43s\tremaining: 18.3s\n",
      "899:\tlearn: 0.0366661\ttotal: 2m 43s\tremaining: 18.1s\n",
      "900:\tlearn: 0.0365653\ttotal: 2m 43s\tremaining: 18s\n",
      "901:\tlearn: 0.0365159\ttotal: 2m 43s\tremaining: 17.8s\n",
      "902:\tlearn: 0.0364689\ttotal: 2m 43s\tremaining: 17.6s\n",
      "903:\tlearn: 0.0364329\ttotal: 2m 43s\tremaining: 17.4s\n",
      "904:\tlearn: 0.0363624\ttotal: 2m 44s\tremaining: 17.2s\n",
      "905:\tlearn: 0.0363073\ttotal: 2m 44s\tremaining: 17s\n",
      "906:\tlearn: 0.0362344\ttotal: 2m 44s\tremaining: 16.9s\n",
      "907:\tlearn: 0.0361930\ttotal: 2m 44s\tremaining: 16.7s\n",
      "908:\tlearn: 0.0361024\ttotal: 2m 44s\tremaining: 16.5s\n",
      "909:\tlearn: 0.0359988\ttotal: 2m 45s\tremaining: 16.3s\n",
      "910:\tlearn: 0.0358350\ttotal: 2m 45s\tremaining: 16.1s\n",
      "911:\tlearn: 0.0357661\ttotal: 2m 45s\tremaining: 16s\n",
      "912:\tlearn: 0.0356793\ttotal: 2m 45s\tremaining: 15.8s\n",
      "913:\tlearn: 0.0356285\ttotal: 2m 45s\tremaining: 15.6s\n",
      "914:\tlearn: 0.0355210\ttotal: 2m 45s\tremaining: 15.4s\n",
      "915:\tlearn: 0.0354283\ttotal: 2m 46s\tremaining: 15.2s\n",
      "916:\tlearn: 0.0352743\ttotal: 2m 46s\tremaining: 15.1s\n",
      "917:\tlearn: 0.0352157\ttotal: 2m 46s\tremaining: 14.9s\n",
      "918:\tlearn: 0.0350543\ttotal: 2m 46s\tremaining: 14.7s\n",
      "919:\tlearn: 0.0349750\ttotal: 2m 46s\tremaining: 14.5s\n",
      "920:\tlearn: 0.0348982\ttotal: 2m 47s\tremaining: 14.3s\n",
      "921:\tlearn: 0.0347996\ttotal: 2m 47s\tremaining: 14.1s\n",
      "922:\tlearn: 0.0347302\ttotal: 2m 47s\tremaining: 14s\n",
      "923:\tlearn: 0.0346191\ttotal: 2m 47s\tremaining: 13.8s\n",
      "924:\tlearn: 0.0345782\ttotal: 2m 47s\tremaining: 13.6s\n",
      "925:\tlearn: 0.0344559\ttotal: 2m 47s\tremaining: 13.4s\n",
      "926:\tlearn: 0.0343696\ttotal: 2m 48s\tremaining: 13.2s\n",
      "927:\tlearn: 0.0343061\ttotal: 2m 48s\tremaining: 13.1s\n",
      "928:\tlearn: 0.0342509\ttotal: 2m 48s\tremaining: 12.9s\n",
      "929:\tlearn: 0.0341944\ttotal: 2m 48s\tremaining: 12.7s\n",
      "930:\tlearn: 0.0340994\ttotal: 2m 48s\tremaining: 12.5s\n",
      "931:\tlearn: 0.0340019\ttotal: 2m 48s\tremaining: 12.3s\n",
      "932:\tlearn: 0.0339123\ttotal: 2m 49s\tremaining: 12.1s\n",
      "933:\tlearn: 0.0338099\ttotal: 2m 49s\tremaining: 12s\n",
      "934:\tlearn: 0.0337135\ttotal: 2m 49s\tremaining: 11.8s\n",
      "935:\tlearn: 0.0336523\ttotal: 2m 49s\tremaining: 11.6s\n",
      "936:\tlearn: 0.0335508\ttotal: 2m 49s\tremaining: 11.4s\n",
      "937:\tlearn: 0.0335182\ttotal: 2m 50s\tremaining: 11.2s\n",
      "938:\tlearn: 0.0334589\ttotal: 2m 50s\tremaining: 11.1s\n",
      "939:\tlearn: 0.0333791\ttotal: 2m 50s\tremaining: 10.9s\n",
      "940:\tlearn: 0.0333360\ttotal: 2m 50s\tremaining: 10.7s\n",
      "941:\tlearn: 0.0331803\ttotal: 2m 50s\tremaining: 10.5s\n",
      "942:\tlearn: 0.0330641\ttotal: 2m 50s\tremaining: 10.3s\n",
      "943:\tlearn: 0.0330010\ttotal: 2m 51s\tremaining: 10.2s\n",
      "944:\tlearn: 0.0329664\ttotal: 2m 51s\tremaining: 9.97s\n",
      "945:\tlearn: 0.0328138\ttotal: 2m 51s\tremaining: 9.79s\n",
      "946:\tlearn: 0.0327565\ttotal: 2m 51s\tremaining: 9.61s\n",
      "947:\tlearn: 0.0326085\ttotal: 2m 51s\tremaining: 9.43s\n",
      "948:\tlearn: 0.0325270\ttotal: 2m 52s\tremaining: 9.24s\n",
      "949:\tlearn: 0.0324321\ttotal: 2m 52s\tremaining: 9.06s\n",
      "950:\tlearn: 0.0323868\ttotal: 2m 52s\tremaining: 8.88s\n",
      "951:\tlearn: 0.0323241\ttotal: 2m 52s\tremaining: 8.7s\n",
      "952:\tlearn: 0.0322492\ttotal: 2m 52s\tremaining: 8.52s\n",
      "953:\tlearn: 0.0322145\ttotal: 2m 52s\tremaining: 8.34s\n",
      "954:\tlearn: 0.0321463\ttotal: 2m 53s\tremaining: 8.16s\n",
      "955:\tlearn: 0.0320870\ttotal: 2m 53s\tremaining: 7.97s\n",
      "956:\tlearn: 0.0319859\ttotal: 2m 53s\tremaining: 7.79s\n",
      "957:\tlearn: 0.0318278\ttotal: 2m 53s\tremaining: 7.61s\n",
      "958:\tlearn: 0.0316723\ttotal: 2m 53s\tremaining: 7.43s\n",
      "959:\tlearn: 0.0316005\ttotal: 2m 53s\tremaining: 7.25s\n",
      "960:\tlearn: 0.0315626\ttotal: 2m 54s\tremaining: 7.07s\n",
      "961:\tlearn: 0.0314514\ttotal: 2m 54s\tremaining: 6.89s\n",
      "962:\tlearn: 0.0313626\ttotal: 2m 54s\tremaining: 6.71s\n",
      "963:\tlearn: 0.0313017\ttotal: 2m 54s\tremaining: 6.52s\n",
      "964:\tlearn: 0.0312014\ttotal: 2m 54s\tremaining: 6.34s\n",
      "965:\tlearn: 0.0310744\ttotal: 2m 55s\tremaining: 6.16s\n",
      "966:\tlearn: 0.0310101\ttotal: 2m 55s\tremaining: 5.98s\n",
      "967:\tlearn: 0.0309396\ttotal: 2m 55s\tremaining: 5.8s\n",
      "968:\tlearn: 0.0308838\ttotal: 2m 55s\tremaining: 5.62s\n",
      "969:\tlearn: 0.0308495\ttotal: 2m 55s\tremaining: 5.44s\n",
      "970:\tlearn: 0.0308137\ttotal: 2m 55s\tremaining: 5.25s\n",
      "971:\tlearn: 0.0307213\ttotal: 2m 56s\tremaining: 5.07s\n",
      "972:\tlearn: 0.0306183\ttotal: 2m 56s\tremaining: 4.89s\n",
      "973:\tlearn: 0.0305620\ttotal: 2m 56s\tremaining: 4.71s\n",
      "974:\tlearn: 0.0304633\ttotal: 2m 56s\tremaining: 4.53s\n",
      "975:\tlearn: 0.0304062\ttotal: 2m 56s\tremaining: 4.35s\n",
      "976:\tlearn: 0.0302785\ttotal: 2m 57s\tremaining: 4.17s\n",
      "977:\tlearn: 0.0302060\ttotal: 2m 57s\tremaining: 3.99s\n",
      "978:\tlearn: 0.0301325\ttotal: 2m 57s\tremaining: 3.8s\n",
      "979:\tlearn: 0.0299925\ttotal: 2m 57s\tremaining: 3.62s\n",
      "980:\tlearn: 0.0299438\ttotal: 2m 57s\tremaining: 3.44s\n",
      "981:\tlearn: 0.0299219\ttotal: 2m 57s\tremaining: 3.26s\n",
      "982:\tlearn: 0.0297526\ttotal: 2m 58s\tremaining: 3.08s\n",
      "983:\tlearn: 0.0296819\ttotal: 2m 58s\tremaining: 2.9s\n",
      "984:\tlearn: 0.0296477\ttotal: 2m 58s\tremaining: 2.72s\n",
      "985:\tlearn: 0.0295934\ttotal: 2m 58s\tremaining: 2.54s\n",
      "986:\tlearn: 0.0295395\ttotal: 2m 59s\tremaining: 2.36s\n",
      "987:\tlearn: 0.0294868\ttotal: 2m 59s\tremaining: 2.18s\n",
      "988:\tlearn: 0.0294313\ttotal: 2m 59s\tremaining: 2s\n",
      "989:\tlearn: 0.0293763\ttotal: 2m 59s\tremaining: 1.81s\n",
      "990:\tlearn: 0.0292822\ttotal: 2m 59s\tremaining: 1.63s\n",
      "991:\tlearn: 0.0291989\ttotal: 2m 59s\tremaining: 1.45s\n",
      "992:\tlearn: 0.0291264\ttotal: 3m\tremaining: 1.27s\n",
      "993:\tlearn: 0.0290688\ttotal: 3m\tremaining: 1.09s\n",
      "994:\tlearn: 0.0290376\ttotal: 3m\tremaining: 907ms\n",
      "995:\tlearn: 0.0289976\ttotal: 3m\tremaining: 726ms\n",
      "996:\tlearn: 0.0289376\ttotal: 3m\tremaining: 544ms\n",
      "997:\tlearn: 0.0288956\ttotal: 3m 1s\tremaining: 363ms\n",
      "998:\tlearn: 0.0288452\ttotal: 3m 1s\tremaining: 181ms\n",
      "999:\tlearn: 0.0287636\ttotal: 3m 1s\tremaining: 0us\n"
     ]
    },
    {
     "data": {
      "text/plain": [
       "<catboost.core.CatBoostRegressor at 0x7f47a8cf3510>"
      ]
     },
     "execution_count": 48,
     "metadata": {},
     "output_type": "execute_result"
    }
   ],
   "source": [
    "model = CatBoostRegressor(**params)\n",
    "model.fit(train_s, y_train)"
   ]
  },
  {
   "cell_type": "code",
   "execution_count": 49,
   "id": "1c9aa079",
   "metadata": {
    "execution": {
     "iopub.execute_input": "2022-12-14T20:46:48.404536Z",
     "iopub.status.busy": "2022-12-14T20:46:48.404062Z",
     "iopub.status.idle": "2022-12-14T20:46:48.642721Z",
     "shell.execute_reply": "2022-12-14T20:46:48.641512Z"
    },
    "papermill": {
     "duration": 0.297822,
     "end_time": "2022-12-14T20:46:48.645191",
     "exception": false,
     "start_time": "2022-12-14T20:46:48.347369",
     "status": "completed"
    },
    "tags": []
   },
   "outputs": [
    {
     "name": "stdout",
     "output_type": "stream",
     "text": [
      "0.028763635269147273\n",
      "0.02446931103042308\n"
     ]
    }
   ],
   "source": [
    "y_pred = model.predict(train_s)\n",
    "print(RMSE(y_train,y_pred))\n",
    "print(mean_absolute_error(y_train, y_pred))"
   ]
  },
  {
   "cell_type": "markdown",
   "id": "54857a2f",
   "metadata": {
    "papermill": {
     "duration": 0.054462,
     "end_time": "2022-12-14T20:46:48.755035",
     "exception": false,
     "start_time": "2022-12-14T20:46:48.700573",
     "status": "completed"
    },
    "tags": []
   },
   "source": [
    "# SGD Regression"
   ]
  },
  {
   "cell_type": "code",
   "execution_count": 50,
   "id": "9edea2d8",
   "metadata": {
    "execution": {
     "iopub.execute_input": "2022-12-14T20:46:48.866707Z",
     "iopub.status.busy": "2022-12-14T20:46:48.866247Z",
     "iopub.status.idle": "2022-12-14T20:46:48.872020Z",
     "shell.execute_reply": "2022-12-14T20:46:48.870729Z"
    },
    "papermill": {
     "duration": 0.064214,
     "end_time": "2022-12-14T20:46:48.874408",
     "exception": false,
     "start_time": "2022-12-14T20:46:48.810194",
     "status": "completed"
    },
    "tags": []
   },
   "outputs": [],
   "source": [
    "from sklearn.linear_model import SGDRegressor"
   ]
  },
  {
   "cell_type": "code",
   "execution_count": 51,
   "id": "aef60c2d",
   "metadata": {
    "execution": {
     "iopub.execute_input": "2022-12-14T20:46:48.991883Z",
     "iopub.status.busy": "2022-12-14T20:46:48.991385Z",
     "iopub.status.idle": "2022-12-14T20:46:49.183582Z",
     "shell.execute_reply": "2022-12-14T20:46:49.182250Z"
    },
    "papermill": {
     "duration": 0.253664,
     "end_time": "2022-12-14T20:46:49.186212",
     "exception": false,
     "start_time": "2022-12-14T20:46:48.932548",
     "status": "completed"
    },
    "tags": []
   },
   "outputs": [
    {
     "data": {
      "text/plain": [
       "SGDRegressor()"
      ]
     },
     "execution_count": 51,
     "metadata": {},
     "output_type": "execute_result"
    }
   ],
   "source": [
    "model = SGDRegressor(max_iter=1000, tol=1e-3)\n",
    "model.fit(train_s, y_train)"
   ]
  },
  {
   "cell_type": "code",
   "execution_count": 52,
   "id": "0b020196",
   "metadata": {
    "execution": {
     "iopub.execute_input": "2022-12-14T20:46:49.324286Z",
     "iopub.status.busy": "2022-12-14T20:46:49.323645Z",
     "iopub.status.idle": "2022-12-14T20:46:49.379041Z",
     "shell.execute_reply": "2022-12-14T20:46:49.377779Z"
    },
    "papermill": {
     "duration": 0.136391,
     "end_time": "2022-12-14T20:46:49.382268",
     "exception": false,
     "start_time": "2022-12-14T20:46:49.245877",
     "status": "completed"
    },
    "tags": []
   },
   "outputs": [
    {
     "name": "stdout",
     "output_type": "stream",
     "text": [
      "0.5011984099643527\n",
      "0.3916674554648594\n"
     ]
    }
   ],
   "source": [
    "y_pred = model.predict(train_s)\n",
    "print(RMSE(y_train,y_pred))\n",
    "print(mean_absolute_error(y_train, y_pred))"
   ]
  },
  {
   "cell_type": "markdown",
   "id": "1fbd08fa",
   "metadata": {
    "papermill": {
     "duration": 0.054995,
     "end_time": "2022-12-14T20:46:49.497596",
     "exception": false,
     "start_time": "2022-12-14T20:46:49.442601",
     "status": "completed"
    },
    "tags": []
   },
   "source": [
    "# Kernel Ridge"
   ]
  },
  {
   "cell_type": "code",
   "execution_count": 53,
   "id": "e0609ce3",
   "metadata": {
    "execution": {
     "iopub.execute_input": "2022-12-14T20:46:49.741785Z",
     "iopub.status.busy": "2022-12-14T20:46:49.741325Z",
     "iopub.status.idle": "2022-12-14T20:46:49.749197Z",
     "shell.execute_reply": "2022-12-14T20:46:49.748162Z"
    },
    "papermill": {
     "duration": 0.066712,
     "end_time": "2022-12-14T20:46:49.751620",
     "exception": false,
     "start_time": "2022-12-14T20:46:49.684908",
     "status": "completed"
    },
    "tags": []
   },
   "outputs": [],
   "source": [
    "from sklearn.kernel_ridge import KernelRidge"
   ]
  },
  {
   "cell_type": "code",
   "execution_count": 54,
   "id": "858bb24b",
   "metadata": {
    "execution": {
     "iopub.execute_input": "2022-12-14T20:46:49.865410Z",
     "iopub.status.busy": "2022-12-14T20:46:49.864987Z",
     "iopub.status.idle": "2022-12-14T20:46:56.895094Z",
     "shell.execute_reply": "2022-12-14T20:46:56.893889Z"
    },
    "papermill": {
     "duration": 7.09041,
     "end_time": "2022-12-14T20:46:56.897673",
     "exception": false,
     "start_time": "2022-12-14T20:46:49.807263",
     "status": "completed"
    },
    "tags": []
   },
   "outputs": [
    {
     "data": {
      "text/plain": [
       "KernelRidge(alpha=1.0)"
      ]
     },
     "execution_count": 54,
     "metadata": {},
     "output_type": "execute_result"
    }
   ],
   "source": [
    "model = KernelRidge(alpha=1.0)\n",
    "model.fit(train_s, y_train)"
   ]
  },
  {
   "cell_type": "code",
   "execution_count": 55,
   "id": "3c114640",
   "metadata": {
    "execution": {
     "iopub.execute_input": "2022-12-14T20:46:57.010444Z",
     "iopub.status.busy": "2022-12-14T20:46:57.009414Z",
     "iopub.status.idle": "2022-12-14T20:47:03.008785Z",
     "shell.execute_reply": "2022-12-14T20:47:03.007616Z"
    },
    "papermill": {
     "duration": 6.062669,
     "end_time": "2022-12-14T20:47:03.015168",
     "exception": false,
     "start_time": "2022-12-14T20:46:56.952499",
     "status": "completed"
    },
    "tags": []
   },
   "outputs": [
    {
     "name": "stdout",
     "output_type": "stream",
     "text": [
      "0.34488317633218857\n",
      "0.2720809310054747\n"
     ]
    }
   ],
   "source": [
    "y_pred = model.predict(train_s)\n",
    "print(RMSE(y_train,y_pred))\n",
    "print(mean_absolute_error(y_train, y_pred))"
   ]
  },
  {
   "cell_type": "markdown",
   "id": "62287843",
   "metadata": {
    "papermill": {
     "duration": 0.054521,
     "end_time": "2022-12-14T20:47:03.181823",
     "exception": false,
     "start_time": "2022-12-14T20:47:03.127302",
     "status": "completed"
    },
    "tags": []
   },
   "source": [
    "# Elastic Net"
   ]
  },
  {
   "cell_type": "code",
   "execution_count": 56,
   "id": "159c4621",
   "metadata": {
    "execution": {
     "iopub.execute_input": "2022-12-14T20:47:03.295945Z",
     "iopub.status.busy": "2022-12-14T20:47:03.295527Z",
     "iopub.status.idle": "2022-12-14T20:47:03.301015Z",
     "shell.execute_reply": "2022-12-14T20:47:03.299760Z"
    },
    "papermill": {
     "duration": 0.066429,
     "end_time": "2022-12-14T20:47:03.303792",
     "exception": false,
     "start_time": "2022-12-14T20:47:03.237363",
     "status": "completed"
    },
    "tags": []
   },
   "outputs": [],
   "source": [
    "from sklearn.linear_model import ElasticNet"
   ]
  },
  {
   "cell_type": "code",
   "execution_count": 57,
   "id": "9f646877",
   "metadata": {
    "execution": {
     "iopub.execute_input": "2022-12-14T20:47:03.417678Z",
     "iopub.status.busy": "2022-12-14T20:47:03.417212Z",
     "iopub.status.idle": "2022-12-14T20:47:03.658611Z",
     "shell.execute_reply": "2022-12-14T20:47:03.656775Z"
    },
    "papermill": {
     "duration": 0.303882,
     "end_time": "2022-12-14T20:47:03.664124",
     "exception": false,
     "start_time": "2022-12-14T20:47:03.360242",
     "status": "completed"
    },
    "tags": []
   },
   "outputs": [
    {
     "data": {
      "text/plain": [
       "ElasticNet(random_state=0)"
      ]
     },
     "execution_count": 57,
     "metadata": {},
     "output_type": "execute_result"
    }
   ],
   "source": [
    "model = ElasticNet(random_state=0)\n",
    "model.fit(train_s, y_train)"
   ]
  },
  {
   "cell_type": "code",
   "execution_count": 58,
   "id": "4906f5e4",
   "metadata": {
    "execution": {
     "iopub.execute_input": "2022-12-14T20:47:03.838845Z",
     "iopub.status.busy": "2022-12-14T20:47:03.838397Z",
     "iopub.status.idle": "2022-12-14T20:47:03.849334Z",
     "shell.execute_reply": "2022-12-14T20:47:03.847580Z"
    },
    "papermill": {
     "duration": 0.070619,
     "end_time": "2022-12-14T20:47:03.851830",
     "exception": false,
     "start_time": "2022-12-14T20:47:03.781211",
     "status": "completed"
    },
    "tags": []
   },
   "outputs": [
    {
     "name": "stdout",
     "output_type": "stream",
     "text": [
      "0.5830738783573568\n",
      "0.47292412140465423\n"
     ]
    }
   ],
   "source": [
    "y_pred = model.predict(train_s)\n",
    "print(RMSE(y_train,y_pred))\n",
    "print(mean_absolute_error(y_train, y_pred))"
   ]
  },
  {
   "cell_type": "markdown",
   "id": "b98aae6a",
   "metadata": {
    "papermill": {
     "duration": 0.055145,
     "end_time": "2022-12-14T20:47:03.962550",
     "exception": false,
     "start_time": "2022-12-14T20:47:03.907405",
     "status": "completed"
    },
    "tags": []
   },
   "source": [
    "# Bayesian Ridge"
   ]
  },
  {
   "cell_type": "code",
   "execution_count": 59,
   "id": "813a02d7",
   "metadata": {
    "execution": {
     "iopub.execute_input": "2022-12-14T20:47:04.076535Z",
     "iopub.status.busy": "2022-12-14T20:47:04.076085Z",
     "iopub.status.idle": "2022-12-14T20:47:04.080326Z",
     "shell.execute_reply": "2022-12-14T20:47:04.079486Z"
    },
    "papermill": {
     "duration": 0.064081,
     "end_time": "2022-12-14T20:47:04.082969",
     "exception": false,
     "start_time": "2022-12-14T20:47:04.018888",
     "status": "completed"
    },
    "tags": []
   },
   "outputs": [],
   "source": [
    "from sklearn.linear_model import BayesianRidge"
   ]
  },
  {
   "cell_type": "code",
   "execution_count": 60,
   "id": "94386534",
   "metadata": {
    "execution": {
     "iopub.execute_input": "2022-12-14T20:47:04.196509Z",
     "iopub.status.busy": "2022-12-14T20:47:04.195778Z",
     "iopub.status.idle": "2022-12-14T20:49:28.462377Z",
     "shell.execute_reply": "2022-12-14T20:49:28.461173Z"
    },
    "papermill": {
     "duration": 144.38827,
     "end_time": "2022-12-14T20:49:28.527061",
     "exception": false,
     "start_time": "2022-12-14T20:47:04.138791",
     "status": "completed"
    },
    "tags": []
   },
   "outputs": [
    {
     "data": {
      "text/plain": [
       "BayesianRidge()"
      ]
     },
     "execution_count": 60,
     "metadata": {},
     "output_type": "execute_result"
    }
   ],
   "source": [
    "model = BayesianRidge()\n",
    "model.fit(train_s.toarray(), y_train)"
   ]
  },
  {
   "cell_type": "code",
   "execution_count": 61,
   "id": "e49dba89",
   "metadata": {
    "execution": {
     "iopub.execute_input": "2022-12-14T20:49:28.640577Z",
     "iopub.status.busy": "2022-12-14T20:49:28.640119Z",
     "iopub.status.idle": "2022-12-14T20:49:28.652049Z",
     "shell.execute_reply": "2022-12-14T20:49:28.651147Z"
    },
    "papermill": {
     "duration": 0.073077,
     "end_time": "2022-12-14T20:49:28.656179",
     "exception": false,
     "start_time": "2022-12-14T20:49:28.583102",
     "status": "completed"
    },
    "tags": []
   },
   "outputs": [
    {
     "name": "stdout",
     "output_type": "stream",
     "text": [
      "0.3670813163705288\n",
      "0.28943738224788934\n"
     ]
    }
   ],
   "source": [
    "y_pred = model.predict(train_s)\n",
    "print(RMSE(y_train,y_pred))\n",
    "print(mean_absolute_error(y_train, y_pred))"
   ]
  },
  {
   "cell_type": "markdown",
   "id": "c7e5cb79",
   "metadata": {
    "papermill": {
     "duration": 0.055258,
     "end_time": "2022-12-14T20:49:28.768201",
     "exception": false,
     "start_time": "2022-12-14T20:49:28.712943",
     "status": "completed"
    },
    "tags": []
   },
   "source": [
    "# Gradient Boost Regressor"
   ]
  },
  {
   "cell_type": "code",
   "execution_count": 62,
   "id": "99752897",
   "metadata": {
    "execution": {
     "iopub.execute_input": "2022-12-14T20:49:28.886731Z",
     "iopub.status.busy": "2022-12-14T20:49:28.885957Z",
     "iopub.status.idle": "2022-12-14T20:49:29.074120Z",
     "shell.execute_reply": "2022-12-14T20:49:29.072570Z"
    },
    "papermill": {
     "duration": 0.252994,
     "end_time": "2022-12-14T20:49:29.077169",
     "exception": false,
     "start_time": "2022-12-14T20:49:28.824175",
     "status": "completed"
    },
    "tags": []
   },
   "outputs": [],
   "source": [
    "from sklearn.ensemble import GradientBoostingRegressor"
   ]
  },
  {
   "cell_type": "code",
   "execution_count": 63,
   "id": "d711d12f",
   "metadata": {
    "execution": {
     "iopub.execute_input": "2022-12-14T20:49:29.201839Z",
     "iopub.status.busy": "2022-12-14T20:49:29.200883Z",
     "iopub.status.idle": "2022-12-14T20:49:54.668126Z",
     "shell.execute_reply": "2022-12-14T20:49:54.666955Z"
    },
    "papermill": {
     "duration": 25.5371,
     "end_time": "2022-12-14T20:49:54.670809",
     "exception": false,
     "start_time": "2022-12-14T20:49:29.133709",
     "status": "completed"
    },
    "tags": []
   },
   "outputs": [
    {
     "data": {
      "text/plain": [
       "GradientBoostingRegressor(random_state=0)"
      ]
     },
     "execution_count": 63,
     "metadata": {},
     "output_type": "execute_result"
    }
   ],
   "source": [
    "model = GradientBoostingRegressor(random_state=0)\n",
    "model.fit(train_s, y_train)"
   ]
  },
  {
   "cell_type": "code",
   "execution_count": 64,
   "id": "11692cca",
   "metadata": {
    "execution": {
     "iopub.execute_input": "2022-12-14T20:49:54.787210Z",
     "iopub.status.busy": "2022-12-14T20:49:54.786355Z",
     "iopub.status.idle": "2022-12-14T20:49:54.826122Z",
     "shell.execute_reply": "2022-12-14T20:49:54.824250Z"
    },
    "papermill": {
     "duration": 0.10052,
     "end_time": "2022-12-14T20:49:54.829395",
     "exception": false,
     "start_time": "2022-12-14T20:49:54.728875",
     "status": "completed"
    },
    "tags": []
   },
   "outputs": [
    {
     "name": "stdout",
     "output_type": "stream",
     "text": [
      "0.39024511801346584\n",
      "0.31066729555131944\n"
     ]
    }
   ],
   "source": [
    "y_pred = model.predict(train_s)\n",
    "print(RMSE(y_train,y_pred))\n",
    "print(mean_absolute_error(y_train, y_pred))"
   ]
  },
  {
   "cell_type": "markdown",
   "id": "a29a31b1",
   "metadata": {
    "papermill": {
     "duration": 0.057175,
     "end_time": "2022-12-14T20:49:54.944515",
     "exception": false,
     "start_time": "2022-12-14T20:49:54.887340",
     "status": "completed"
    },
    "tags": []
   },
   "source": [
    "# SVM"
   ]
  },
  {
   "cell_type": "code",
   "execution_count": 65,
   "id": "c0ab27a4",
   "metadata": {
    "execution": {
     "iopub.execute_input": "2022-12-14T20:49:55.061052Z",
     "iopub.status.busy": "2022-12-14T20:49:55.060219Z",
     "iopub.status.idle": "2022-12-14T20:49:55.065450Z",
     "shell.execute_reply": "2022-12-14T20:49:55.064308Z"
    },
    "papermill": {
     "duration": 0.065073,
     "end_time": "2022-12-14T20:49:55.067614",
     "exception": false,
     "start_time": "2022-12-14T20:49:55.002541",
     "status": "completed"
    },
    "tags": []
   },
   "outputs": [],
   "source": [
    "from sklearn.svm import SVR"
   ]
  },
  {
   "cell_type": "code",
   "execution_count": 66,
   "id": "c3f6e011",
   "metadata": {
    "execution": {
     "iopub.execute_input": "2022-12-14T20:49:55.182255Z",
     "iopub.status.busy": "2022-12-14T20:49:55.181783Z",
     "iopub.status.idle": "2022-12-14T20:50:13.423988Z",
     "shell.execute_reply": "2022-12-14T20:50:13.422794Z"
    },
    "papermill": {
     "duration": 18.303057,
     "end_time": "2022-12-14T20:50:13.426694",
     "exception": false,
     "start_time": "2022-12-14T20:49:55.123637",
     "status": "completed"
    },
    "tags": []
   },
   "outputs": [
    {
     "data": {
      "text/plain": [
       "SVR(epsilon=0.2)"
      ]
     },
     "execution_count": 66,
     "metadata": {},
     "output_type": "execute_result"
    }
   ],
   "source": [
    "model = SVR(C=1.0, epsilon=0.2)\n",
    "model.fit(train_s, y_train)"
   ]
  },
  {
   "cell_type": "code",
   "execution_count": 67,
   "id": "d599f67c",
   "metadata": {
    "execution": {
     "iopub.execute_input": "2022-12-14T20:50:13.540437Z",
     "iopub.status.busy": "2022-12-14T20:50:13.539993Z",
     "iopub.status.idle": "2022-12-14T20:50:31.098163Z",
     "shell.execute_reply": "2022-12-14T20:50:31.096355Z"
    },
    "papermill": {
     "duration": 17.618433,
     "end_time": "2022-12-14T20:50:31.101294",
     "exception": false,
     "start_time": "2022-12-14T20:50:13.482861",
     "status": "completed"
    },
    "tags": []
   },
   "outputs": [
    {
     "name": "stdout",
     "output_type": "stream",
     "text": [
      "0.3584459804856143\n",
      "0.2767504839186438\n"
     ]
    }
   ],
   "source": [
    "y_pred = model.predict(train_s)\n",
    "print(RMSE(y_train,y_pred))\n",
    "print(mean_absolute_error(y_train, y_pred))"
   ]
  },
  {
   "cell_type": "markdown",
   "id": "187a39dd",
   "metadata": {
    "papermill": {
     "duration": 0.05606,
     "end_time": "2022-12-14T20:50:31.214141",
     "exception": false,
     "start_time": "2022-12-14T20:50:31.158081",
     "status": "completed"
    },
    "tags": []
   },
   "source": [
    "# Random Forest Regressor"
   ]
  },
  {
   "cell_type": "code",
   "execution_count": 68,
   "id": "4917b8ef",
   "metadata": {
    "execution": {
     "iopub.execute_input": "2022-12-14T20:50:31.332146Z",
     "iopub.status.busy": "2022-12-14T20:50:31.331680Z",
     "iopub.status.idle": "2022-12-14T20:50:31.336681Z",
     "shell.execute_reply": "2022-12-14T20:50:31.335775Z"
    },
    "papermill": {
     "duration": 0.066498,
     "end_time": "2022-12-14T20:50:31.338795",
     "exception": false,
     "start_time": "2022-12-14T20:50:31.272297",
     "status": "completed"
    },
    "tags": []
   },
   "outputs": [],
   "source": [
    "from sklearn.ensemble import RandomForestRegressor"
   ]
  },
  {
   "cell_type": "code",
   "execution_count": 69,
   "id": "5c39e0d1",
   "metadata": {
    "execution": {
     "iopub.execute_input": "2022-12-14T20:50:31.452878Z",
     "iopub.status.busy": "2022-12-14T20:50:31.452408Z",
     "iopub.status.idle": "2022-12-14T20:51:05.221056Z",
     "shell.execute_reply": "2022-12-14T20:51:05.219895Z"
    },
    "papermill": {
     "duration": 33.884248,
     "end_time": "2022-12-14T20:51:05.279227",
     "exception": false,
     "start_time": "2022-12-14T20:50:31.394979",
     "status": "completed"
    },
    "tags": []
   },
   "outputs": [
    {
     "data": {
      "text/plain": [
       "RandomForestRegressor(max_depth=5, random_state=0)"
      ]
     },
     "execution_count": 69,
     "metadata": {},
     "output_type": "execute_result"
    }
   ],
   "source": [
    "model = RandomForestRegressor(max_depth=5, random_state=0)\n",
    "model.fit(train_s, y_train)"
   ]
  },
  {
   "cell_type": "code",
   "execution_count": 70,
   "id": "7cd5c1e8",
   "metadata": {
    "execution": {
     "iopub.execute_input": "2022-12-14T20:51:05.393065Z",
     "iopub.status.busy": "2022-12-14T20:51:05.392550Z",
     "iopub.status.idle": "2022-12-14T20:51:05.685883Z",
     "shell.execute_reply": "2022-12-14T20:51:05.684495Z"
    },
    "papermill": {
     "duration": 0.353537,
     "end_time": "2022-12-14T20:51:05.688944",
     "exception": false,
     "start_time": "2022-12-14T20:51:05.335407",
     "status": "completed"
    },
    "tags": []
   },
   "outputs": [
    {
     "name": "stdout",
     "output_type": "stream",
     "text": [
      "0.45957325656829257\n",
      "0.3632285223087269\n"
     ]
    }
   ],
   "source": [
    "y_pred = model.predict(train_s)\n",
    "print(RMSE(y_train,y_pred))\n",
    "print(mean_absolute_error(y_train, y_pred))"
   ]
  },
  {
   "cell_type": "markdown",
   "id": "222b1e57",
   "metadata": {
    "papermill": {
     "duration": 0.055953,
     "end_time": "2022-12-14T20:51:05.801009",
     "exception": false,
     "start_time": "2022-12-14T20:51:05.745056",
     "status": "completed"
    },
    "tags": []
   },
   "source": [
    "# Conclusion\n",
    "\n",
    "The best performing models were: LGBM, Linear Regression, XGBoost, and CatBoost. These will be used in the final ensemble method."
   ]
  }
 ],
 "metadata": {
  "kernelspec": {
   "display_name": "Python 3",
   "language": "python",
   "name": "python3"
  },
  "language_info": {
   "codemirror_mode": {
    "name": "ipython",
    "version": 3
   },
   "file_extension": ".py",
   "mimetype": "text/x-python",
   "name": "python",
   "nbconvert_exporter": "python",
   "pygments_lexer": "ipython3",
   "version": "3.8.8"
  },
  "papermill": {
   "default_parameters": {},
   "duration": 7177.908537,
   "end_time": "2022-12-14T20:51:09.578496",
   "environment_variables": {},
   "exception": null,
   "input_path": "__notebook__.ipynb",
   "output_path": "__notebook__.ipynb",
   "parameters": {},
   "start_time": "2022-12-14T18:51:31.669959",
   "version": "2.3.4"
  }
 },
 "nbformat": 4,
 "nbformat_minor": 5
}
